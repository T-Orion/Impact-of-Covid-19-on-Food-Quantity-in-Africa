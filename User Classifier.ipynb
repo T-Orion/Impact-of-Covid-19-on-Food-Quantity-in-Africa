{
 "cells": [
  {
   "cell_type": "markdown",
   "metadata": {},
   "source": [
    "# User Classificationwith python and Scikit-Learn.¶"
   ]
  },
  {
   "cell_type": "markdown",
   "metadata": {},
   "source": [
    "This Notebook will perform the following tasks:\n",
    "\n",
    "* Clean Twitter description data. This functionality (and how exactly we will clean/prepare our raw data can be seen in the clean method in the second block\n",
    "* Test the following models on our dataset:\n",
    "       * Random Forest\n",
    "       * Logistic Regression\n",
    "       * Support Vector Machine (linear kernel)\n",
    "       * Naive Bayes (Multinomial and Gaussian priors)\n",
    "Save the results of each model to a well-formatted csv file\n",
    "Evaluate the models automatically and save the results to a csv file"
   ]
  },
  {
   "cell_type": "markdown",
   "metadata": {},
   "source": [
    "##  imports all the necessary packages"
   ]
  },
  {
   "cell_type": "code",
   "execution_count": 26,
   "metadata": {},
   "outputs": [],
   "source": [
    "import pandas as pd\n",
    "import matplotlib.pyplot as plt\n",
    "import seaborn as sns\n",
    "import re, csv\n",
    "import numpy as np\n",
    "\n",
    "import nltk\n",
    "from nltk.corpus import stopwords\n",
    "from nltk.stem.snowball import SnowballStemmer\n",
    "\n",
    "from sklearn.feature_extraction.text import TfidfVectorizer, CountVectorizer\n",
    "\n",
    "from sklearn.linear_model import LogisticRegression\n",
    "from sklearn.ensemble import RandomForestClassifier\n",
    "from sklearn.naive_bayes import MultinomialNB, GaussianNB\n",
    "from sklearn.svm import SVC"
   ]
  },
  {
   "cell_type": "markdown",
   "metadata": {},
   "source": [
    "## write function to clean data"
   ]
  },
  {
   "cell_type": "code",
   "execution_count": 38,
   "metadata": {},
   "outputs": [],
   "source": [
    "def clean(string):\n",
    "    letters_only = re.sub(\"[^a-zA-Z#@]\", \" \", string)\n",
    "\n",
    "    words = letters_only.split()\n",
    "\n",
    "    for i in range(0, len(words)):\n",
    "        if \"#\" in words[i]:\n",
    "            s = words[i].split('#')\n",
    "            words[i] = '# '.join(s)\n",
    "        if \"@\" in words[i]:\n",
    "            s = words[i].split('@')\n",
    "            words[i] = '@ '.join(s)\n",
    "        if \"http\" in words[i]:\n",
    "            s = words[i].split('http')\n",
    "            words[i]= \"http\".join(s)\n",
    "            \n",
    "    total_stop_words = set(stopwords.words(\"english\"))\n",
    "    removed_stop_words = set(stopwords.words(\"english\")[0:20])\n",
    "    stop_words = total_stop_words - removed_stop_words\n",
    "    content_words = [w for w in words if not w in stop_words]\n",
    "\n",
    "    return \" \".join(content_words)\n",
    "\n",
    "def read_data(data):\n",
    "    data['description'] = data.apply(lambda row: clean(row['description']), axis = 1)\n",
    "    level_mapping = {'general': 0, 'private': 1, 'NGO': 2, 'government':3}\n",
    "    data['group'] = data.apply(lambda row:data['group'].replace(level_mapping))\n",
    "    return data[['description','group']]\n",
    "\n",
    "def eval_model(name, classes, predictions):\n",
    "    TP, TN, FP, FN = 0, 0, 0, 0\n",
    "    classes = list(classes)\n",
    "    predictions = list(predictions)\n",
    "    \n",
    "    for i in range(0,len(classes)):\n",
    "        if (classes[i] == 1) & (predictions[i] == 1):\n",
    "            TP += 1\n",
    "        if (classes[i] == 0) & (predictions[i] == 0):\n",
    "            TN += 1\n",
    "        if (classes[i] == 1) & (predictions[i] == 0):\n",
    "            FN += 1\n",
    "        if (classes[i] == 0) & (predictions[i] == 1):\n",
    "            FP += 1\n",
    "   \n",
    "    accuracy= (TP + TN)/(TP + TN + FP + FN)\n",
    "    precision= (TP)/(TP+FP)\n",
    "    recall= TP / (TP+FN)\n",
    "    f_one= 2 * (precision*recall)/(precision + recall)\n",
    "    \n",
    "    scores = {\n",
    "        'Model Name': name,\n",
    "        'Accuracy': accuracy,\n",
    "        'Precision': precision,\n",
    "        'Recall': recall,\n",
    "        'F1 Score': f_one,\n",
    "        'Total TP type':TP,\n",
    "        'Total TN type':TN,\n",
    "        'Total FP type':FP,\n",
    "        'Total FN type':FN\n",
    "    }\n",
    "    \n",
    "    return scores"
   ]
  },
  {
   "cell_type": "markdown",
   "metadata": {},
   "source": [
    "## load the data into pandas Dataframes"
   ]
  },
  {
   "cell_type": "code",
   "execution_count": 11,
   "metadata": {},
   "outputs": [],
   "source": [
    "k_user = pd.read_csv(\"data/kenyan_users_grouped - kenyan_users.csv\")\n",
    "n_user = pd.read_csv(\"data/nigerian_users_grouped - nigerian_users.csv\")\n",
    "s_user = pd.read_csv(\"data/south_african_user_grouped - south_african_user.csv\")"
   ]
  },
  {
   "cell_type": "code",
   "execution_count": 12,
   "metadata": {},
   "outputs": [
    {
     "data": {
      "text/html": [
       "<div>\n",
       "<style scoped>\n",
       "    .dataframe tbody tr th:only-of-type {\n",
       "        vertical-align: middle;\n",
       "    }\n",
       "\n",
       "    .dataframe tbody tr th {\n",
       "        vertical-align: top;\n",
       "    }\n",
       "\n",
       "    .dataframe thead th {\n",
       "        text-align: right;\n",
       "    }\n",
       "</style>\n",
       "<table border=\"1\" class=\"dataframe\">\n",
       "  <thead>\n",
       "    <tr style=\"text-align: right;\">\n",
       "      <th></th>\n",
       "      <th>Unnamed: 0</th>\n",
       "      <th>user_id</th>\n",
       "      <th>name</th>\n",
       "      <th>screen_name</th>\n",
       "      <th>description</th>\n",
       "      <th>group</th>\n",
       "      <th>followers_count</th>\n",
       "      <th>verified</th>\n",
       "    </tr>\n",
       "  </thead>\n",
       "  <tbody>\n",
       "    <tr>\n",
       "      <th>0</th>\n",
       "      <td>0</td>\n",
       "      <td>1.150743e+18</td>\n",
       "      <td>ChezaKe</td>\n",
       "      <td>KeCheza</td>\n",
       "      <td>NEWBUZZ\\nTAG,DM or📧ChezaKe100@gmail.com \\nBook...</td>\n",
       "      <td>private</td>\n",
       "      <td>1356.0</td>\n",
       "      <td>False</td>\n",
       "    </tr>\n",
       "    <tr>\n",
       "      <th>1</th>\n",
       "      <td>1</td>\n",
       "      <td>1.150743e+18</td>\n",
       "      <td>ChezaKe</td>\n",
       "      <td>KeCheza</td>\n",
       "      <td>NEWBUZZ\\nTAG,DM or📧ChezaKe100@gmail.com \\nBook...</td>\n",
       "      <td>private</td>\n",
       "      <td>1356.0</td>\n",
       "      <td>False</td>\n",
       "    </tr>\n",
       "    <tr>\n",
       "      <th>2</th>\n",
       "      <td>2</td>\n",
       "      <td>2.616828e+09</td>\n",
       "      <td>Matt Lichti</td>\n",
       "      <td>mllichti</td>\n",
       "      <td>NaN</td>\n",
       "      <td>general</td>\n",
       "      <td>29.0</td>\n",
       "      <td>False</td>\n",
       "    </tr>\n",
       "    <tr>\n",
       "      <th>3</th>\n",
       "      <td>3</td>\n",
       "      <td>8.006929e+17</td>\n",
       "      <td>East Africa Watch</td>\n",
       "      <td>LugamboBlog</td>\n",
       "      <td>Watching Uganda, Rwanda and Kenya</td>\n",
       "      <td>private</td>\n",
       "      <td>1548.0</td>\n",
       "      <td>False</td>\n",
       "    </tr>\n",
       "    <tr>\n",
       "      <th>4</th>\n",
       "      <td>4</td>\n",
       "      <td>1.028516e+18</td>\n",
       "      <td>Charles Henry K. Mangua</td>\n",
       "      <td>k_mangua</td>\n",
       "      <td>Am a 'chosen and sent'. Am a Pastor, Evangelis...</td>\n",
       "      <td>general</td>\n",
       "      <td>1.0</td>\n",
       "      <td>False</td>\n",
       "    </tr>\n",
       "  </tbody>\n",
       "</table>\n",
       "</div>"
      ],
      "text/plain": [
       "  Unnamed: 0       user_id                     name  screen_name  \\\n",
       "0          0  1.150743e+18                  ChezaKe      KeCheza   \n",
       "1          1  1.150743e+18                  ChezaKe      KeCheza   \n",
       "2          2  2.616828e+09              Matt Lichti     mllichti   \n",
       "3          3  8.006929e+17        East Africa Watch  LugamboBlog   \n",
       "4          4  1.028516e+18  Charles Henry K. Mangua     k_mangua   \n",
       "\n",
       "                                         description    group  \\\n",
       "0  NEWBUZZ\\nTAG,DM or📧ChezaKe100@gmail.com \\nBook...  private   \n",
       "1  NEWBUZZ\\nTAG,DM or📧ChezaKe100@gmail.com \\nBook...  private   \n",
       "2                                                NaN  general   \n",
       "3                  Watching Uganda, Rwanda and Kenya  private   \n",
       "4  Am a 'chosen and sent'. Am a Pastor, Evangelis...  general   \n",
       "\n",
       "   followers_count verified  \n",
       "0           1356.0    False  \n",
       "1           1356.0    False  \n",
       "2             29.0    False  \n",
       "3           1548.0    False  \n",
       "4              1.0    False  "
      ]
     },
     "execution_count": 12,
     "metadata": {},
     "output_type": "execute_result"
    }
   ],
   "source": [
    "k_user.head()"
   ]
  },
  {
   "cell_type": "code",
   "execution_count": 13,
   "metadata": {},
   "outputs": [
    {
     "data": {
      "text/html": [
       "<div>\n",
       "<style scoped>\n",
       "    .dataframe tbody tr th:only-of-type {\n",
       "        vertical-align: middle;\n",
       "    }\n",
       "\n",
       "    .dataframe tbody tr th {\n",
       "        vertical-align: top;\n",
       "    }\n",
       "\n",
       "    .dataframe thead th {\n",
       "        text-align: right;\n",
       "    }\n",
       "</style>\n",
       "<table border=\"1\" class=\"dataframe\">\n",
       "  <thead>\n",
       "    <tr style=\"text-align: right;\">\n",
       "      <th></th>\n",
       "      <th>Unnamed: 0</th>\n",
       "      <th>user_id</th>\n",
       "      <th>name</th>\n",
       "      <th>screen_name</th>\n",
       "      <th>description</th>\n",
       "      <th>group</th>\n",
       "      <th>followers_count</th>\n",
       "      <th>verified</th>\n",
       "    </tr>\n",
       "  </thead>\n",
       "  <tbody>\n",
       "    <tr>\n",
       "      <th>0</th>\n",
       "      <td>0</td>\n",
       "      <td>4.755861e+08</td>\n",
       "      <td>mostarzy</td>\n",
       "      <td>mosesemanuel</td>\n",
       "      <td>Book writer, African modelling,and contractor</td>\n",
       "      <td>general</td>\n",
       "      <td>76</td>\n",
       "      <td>False</td>\n",
       "    </tr>\n",
       "    <tr>\n",
       "      <th>1</th>\n",
       "      <td>1</td>\n",
       "      <td>9.131607e+07</td>\n",
       "      <td>Nigeria Newsdesk</td>\n",
       "      <td>NigeriaNewsdesk</td>\n",
       "      <td>Breaking news and current events from around N...</td>\n",
       "      <td>private</td>\n",
       "      <td>1739295</td>\n",
       "      <td>True</td>\n",
       "    </tr>\n",
       "    <tr>\n",
       "      <th>2</th>\n",
       "      <td>2</td>\n",
       "      <td>9.131607e+07</td>\n",
       "      <td>Nigeria Newsdesk</td>\n",
       "      <td>NigeriaNewsdesk</td>\n",
       "      <td>Breaking news and current events from around N...</td>\n",
       "      <td>private</td>\n",
       "      <td>1739295</td>\n",
       "      <td>True</td>\n",
       "    </tr>\n",
       "    <tr>\n",
       "      <th>3</th>\n",
       "      <td>3</td>\n",
       "      <td>2.483954e+09</td>\n",
       "      <td>TODAY</td>\n",
       "      <td>todayng</td>\n",
       "      <td>Latest news, trends, photos and videos from ar...</td>\n",
       "      <td>private</td>\n",
       "      <td>193604</td>\n",
       "      <td>True</td>\n",
       "    </tr>\n",
       "    <tr>\n",
       "      <th>4</th>\n",
       "      <td>4</td>\n",
       "      <td>7.764142e+08</td>\n",
       "      <td>saintanthony</td>\n",
       "      <td>staintanthony</td>\n",
       "      <td>We fight not for glory nor for wealth nor hono...</td>\n",
       "      <td>general</td>\n",
       "      <td>1670</td>\n",
       "      <td>False</td>\n",
       "    </tr>\n",
       "  </tbody>\n",
       "</table>\n",
       "</div>"
      ],
      "text/plain": [
       "   Unnamed: 0       user_id              name      screen_name  \\\n",
       "0           0  4.755861e+08          mostarzy     mosesemanuel   \n",
       "1           1  9.131607e+07  Nigeria Newsdesk  NigeriaNewsdesk   \n",
       "2           2  9.131607e+07  Nigeria Newsdesk  NigeriaNewsdesk   \n",
       "3           3  2.483954e+09             TODAY          todayng   \n",
       "4           4  7.764142e+08      saintanthony    staintanthony   \n",
       "\n",
       "                                         description    group  \\\n",
       "0      Book writer, African modelling,and contractor  general   \n",
       "1  Breaking news and current events from around N...  private   \n",
       "2  Breaking news and current events from around N...  private   \n",
       "3  Latest news, trends, photos and videos from ar...  private   \n",
       "4  We fight not for glory nor for wealth nor hono...  general   \n",
       "\n",
       "   followers_count  verified  \n",
       "0               76     False  \n",
       "1          1739295      True  \n",
       "2          1739295      True  \n",
       "3           193604      True  \n",
       "4             1670     False  "
      ]
     },
     "execution_count": 13,
     "metadata": {},
     "output_type": "execute_result"
    }
   ],
   "source": [
    "n_user.head()"
   ]
  },
  {
   "cell_type": "code",
   "execution_count": 14,
   "metadata": {},
   "outputs": [
    {
     "data": {
      "text/html": [
       "<div>\n",
       "<style scoped>\n",
       "    .dataframe tbody tr th:only-of-type {\n",
       "        vertical-align: middle;\n",
       "    }\n",
       "\n",
       "    .dataframe tbody tr th {\n",
       "        vertical-align: top;\n",
       "    }\n",
       "\n",
       "    .dataframe thead th {\n",
       "        text-align: right;\n",
       "    }\n",
       "</style>\n",
       "<table border=\"1\" class=\"dataframe\">\n",
       "  <thead>\n",
       "    <tr style=\"text-align: right;\">\n",
       "      <th></th>\n",
       "      <th>Unnamed: 0</th>\n",
       "      <th>user_id</th>\n",
       "      <th>name</th>\n",
       "      <th>screen_name</th>\n",
       "      <th>description</th>\n",
       "      <th>group</th>\n",
       "      <th>followers_count</th>\n",
       "      <th>verified</th>\n",
       "    </tr>\n",
       "  </thead>\n",
       "  <tbody>\n",
       "    <tr>\n",
       "      <th>0</th>\n",
       "      <td>0</td>\n",
       "      <td>3.542582e+08</td>\n",
       "      <td>welcome wxk khoza</td>\n",
       "      <td>welcomexk</td>\n",
       "      <td>KAIZER CHIEFS, METHODIST CHURCH, ANC, ROTARY, ...</td>\n",
       "      <td>private</td>\n",
       "      <td>1702</td>\n",
       "      <td>False</td>\n",
       "    </tr>\n",
       "    <tr>\n",
       "      <th>1</th>\n",
       "      <td>1</td>\n",
       "      <td>3.283054e+09</td>\n",
       "      <td>The Mekong Eye</td>\n",
       "      <td>MekongEye</td>\n",
       "      <td>News-Maps-Perspectives-Solutions. Curated &amp; or...</td>\n",
       "      <td>private</td>\n",
       "      <td>1581</td>\n",
       "      <td>False</td>\n",
       "    </tr>\n",
       "    <tr>\n",
       "      <th>2</th>\n",
       "      <td>2</td>\n",
       "      <td>3.292607e+09</td>\n",
       "      <td>Food Security SA</td>\n",
       "      <td>FoodSecurity_za</td>\n",
       "      <td>An initiative of @dstgovza - @nrf_news, undert...</td>\n",
       "      <td>NGO</td>\n",
       "      <td>2386</td>\n",
       "      <td>False</td>\n",
       "    </tr>\n",
       "    <tr>\n",
       "      <th>3</th>\n",
       "      <td>3</td>\n",
       "      <td>1.931956e+08</td>\n",
       "      <td>Dr. Guendouzi ( The Cerebral Assassin )</td>\n",
       "      <td>fimiletoks</td>\n",
       "      <td>Born Dec 27th..Baptist, Medical Doctor.. #Heal...</td>\n",
       "      <td>general</td>\n",
       "      <td>32716</td>\n",
       "      <td>False</td>\n",
       "    </tr>\n",
       "    <tr>\n",
       "      <th>4</th>\n",
       "      <td>4</td>\n",
       "      <td>1.043434e+18</td>\n",
       "      <td>#TeachersDay2020 Thank You Teacher</td>\n",
       "      <td>ngoamazing2009</td>\n",
       "      <td>I'm your satisfaction &amp; inspiration, taking yo...</td>\n",
       "      <td>private</td>\n",
       "      <td>3680</td>\n",
       "      <td>False</td>\n",
       "    </tr>\n",
       "  </tbody>\n",
       "</table>\n",
       "</div>"
      ],
      "text/plain": [
       "   Unnamed: 0       user_id                                     name  \\\n",
       "0           0  3.542582e+08                        welcome wxk khoza   \n",
       "1           1  3.283054e+09                           The Mekong Eye   \n",
       "2           2  3.292607e+09                         Food Security SA   \n",
       "3           3  1.931956e+08  Dr. Guendouzi ( The Cerebral Assassin )   \n",
       "4           4  1.043434e+18       #TeachersDay2020 Thank You Teacher   \n",
       "\n",
       "       screen_name                                        description  \\\n",
       "0        welcomexk  KAIZER CHIEFS, METHODIST CHURCH, ANC, ROTARY, ...   \n",
       "1        MekongEye  News-Maps-Perspectives-Solutions. Curated & or...   \n",
       "2  FoodSecurity_za  An initiative of @dstgovza - @nrf_news, undert...   \n",
       "3       fimiletoks  Born Dec 27th..Baptist, Medical Doctor.. #Heal...   \n",
       "4   ngoamazing2009  I'm your satisfaction & inspiration, taking yo...   \n",
       "\n",
       "     group  followers_count  verified  \n",
       "0  private             1702     False  \n",
       "1  private             1581     False  \n",
       "2      NGO             2386     False  \n",
       "3  general            32716     False  \n",
       "4  private             3680     False  "
      ]
     },
     "execution_count": 14,
     "metadata": {},
     "output_type": "execute_result"
    }
   ],
   "source": [
    "s_user.head()"
   ]
  },
  {
   "cell_type": "code",
   "execution_count": 15,
   "metadata": {},
   "outputs": [],
   "source": [
    "# Concatinate each country user \n",
    "all_user = pd.concat([k_user,n_user,s_user])"
   ]
  },
  {
   "cell_type": "code",
   "execution_count": 16,
   "metadata": {},
   "outputs": [
    {
     "data": {
      "text/html": [
       "<div>\n",
       "<style scoped>\n",
       "    .dataframe tbody tr th:only-of-type {\n",
       "        vertical-align: middle;\n",
       "    }\n",
       "\n",
       "    .dataframe tbody tr th {\n",
       "        vertical-align: top;\n",
       "    }\n",
       "\n",
       "    .dataframe thead th {\n",
       "        text-align: right;\n",
       "    }\n",
       "</style>\n",
       "<table border=\"1\" class=\"dataframe\">\n",
       "  <thead>\n",
       "    <tr style=\"text-align: right;\">\n",
       "      <th></th>\n",
       "      <th>Unnamed: 0</th>\n",
       "      <th>user_id</th>\n",
       "      <th>name</th>\n",
       "      <th>screen_name</th>\n",
       "      <th>description</th>\n",
       "      <th>group</th>\n",
       "      <th>followers_count</th>\n",
       "      <th>verified</th>\n",
       "    </tr>\n",
       "  </thead>\n",
       "  <tbody>\n",
       "    <tr>\n",
       "      <th>0</th>\n",
       "      <td>0</td>\n",
       "      <td>1.150743e+18</td>\n",
       "      <td>ChezaKe</td>\n",
       "      <td>KeCheza</td>\n",
       "      <td>NEWBUZZ\\nTAG,DM or📧ChezaKe100@gmail.com \\nBook...</td>\n",
       "      <td>private</td>\n",
       "      <td>1356.0</td>\n",
       "      <td>False</td>\n",
       "    </tr>\n",
       "    <tr>\n",
       "      <th>1</th>\n",
       "      <td>1</td>\n",
       "      <td>1.150743e+18</td>\n",
       "      <td>ChezaKe</td>\n",
       "      <td>KeCheza</td>\n",
       "      <td>NEWBUZZ\\nTAG,DM or📧ChezaKe100@gmail.com \\nBook...</td>\n",
       "      <td>private</td>\n",
       "      <td>1356.0</td>\n",
       "      <td>False</td>\n",
       "    </tr>\n",
       "    <tr>\n",
       "      <th>2</th>\n",
       "      <td>2</td>\n",
       "      <td>2.616828e+09</td>\n",
       "      <td>Matt Lichti</td>\n",
       "      <td>mllichti</td>\n",
       "      <td>NaN</td>\n",
       "      <td>general</td>\n",
       "      <td>29.0</td>\n",
       "      <td>False</td>\n",
       "    </tr>\n",
       "    <tr>\n",
       "      <th>3</th>\n",
       "      <td>3</td>\n",
       "      <td>8.006929e+17</td>\n",
       "      <td>East Africa Watch</td>\n",
       "      <td>LugamboBlog</td>\n",
       "      <td>Watching Uganda, Rwanda and Kenya</td>\n",
       "      <td>private</td>\n",
       "      <td>1548.0</td>\n",
       "      <td>False</td>\n",
       "    </tr>\n",
       "    <tr>\n",
       "      <th>4</th>\n",
       "      <td>4</td>\n",
       "      <td>1.028516e+18</td>\n",
       "      <td>Charles Henry K. Mangua</td>\n",
       "      <td>k_mangua</td>\n",
       "      <td>Am a 'chosen and sent'. Am a Pastor, Evangelis...</td>\n",
       "      <td>general</td>\n",
       "      <td>1.0</td>\n",
       "      <td>False</td>\n",
       "    </tr>\n",
       "  </tbody>\n",
       "</table>\n",
       "</div>"
      ],
      "text/plain": [
       "  Unnamed: 0       user_id                     name  screen_name  \\\n",
       "0          0  1.150743e+18                  ChezaKe      KeCheza   \n",
       "1          1  1.150743e+18                  ChezaKe      KeCheza   \n",
       "2          2  2.616828e+09              Matt Lichti     mllichti   \n",
       "3          3  8.006929e+17        East Africa Watch  LugamboBlog   \n",
       "4          4  1.028516e+18  Charles Henry K. Mangua     k_mangua   \n",
       "\n",
       "                                         description    group  \\\n",
       "0  NEWBUZZ\\nTAG,DM or📧ChezaKe100@gmail.com \\nBook...  private   \n",
       "1  NEWBUZZ\\nTAG,DM or📧ChezaKe100@gmail.com \\nBook...  private   \n",
       "2                                                NaN  general   \n",
       "3                  Watching Uganda, Rwanda and Kenya  private   \n",
       "4  Am a 'chosen and sent'. Am a Pastor, Evangelis...  general   \n",
       "\n",
       "   followers_count verified  \n",
       "0           1356.0    False  \n",
       "1           1356.0    False  \n",
       "2             29.0    False  \n",
       "3           1548.0    False  \n",
       "4              1.0    False  "
      ]
     },
     "execution_count": 16,
     "metadata": {},
     "output_type": "execute_result"
    }
   ],
   "source": [
    "all_user.head()"
   ]
  },
  {
   "cell_type": "code",
   "execution_count": 18,
   "metadata": {},
   "outputs": [],
   "source": [
    "#drop unnecessary columns\n",
    "all_user.drop(columns=['Unnamed: 0'],inplace=True)"
   ]
  },
  {
   "cell_type": "code",
   "execution_count": 19,
   "metadata": {},
   "outputs": [
    {
     "data": {
      "text/html": [
       "<div>\n",
       "<style scoped>\n",
       "    .dataframe tbody tr th:only-of-type {\n",
       "        vertical-align: middle;\n",
       "    }\n",
       "\n",
       "    .dataframe tbody tr th {\n",
       "        vertical-align: top;\n",
       "    }\n",
       "\n",
       "    .dataframe thead th {\n",
       "        text-align: right;\n",
       "    }\n",
       "</style>\n",
       "<table border=\"1\" class=\"dataframe\">\n",
       "  <thead>\n",
       "    <tr style=\"text-align: right;\">\n",
       "      <th></th>\n",
       "      <th>user_id</th>\n",
       "      <th>name</th>\n",
       "      <th>screen_name</th>\n",
       "      <th>description</th>\n",
       "      <th>group</th>\n",
       "      <th>followers_count</th>\n",
       "      <th>verified</th>\n",
       "    </tr>\n",
       "  </thead>\n",
       "  <tbody>\n",
       "    <tr>\n",
       "      <th>0</th>\n",
       "      <td>1.150743e+18</td>\n",
       "      <td>ChezaKe</td>\n",
       "      <td>KeCheza</td>\n",
       "      <td>NEWBUZZ\\nTAG,DM or📧ChezaKe100@gmail.com \\nBook...</td>\n",
       "      <td>private</td>\n",
       "      <td>1356.0</td>\n",
       "      <td>False</td>\n",
       "    </tr>\n",
       "    <tr>\n",
       "      <th>1</th>\n",
       "      <td>1.150743e+18</td>\n",
       "      <td>ChezaKe</td>\n",
       "      <td>KeCheza</td>\n",
       "      <td>NEWBUZZ\\nTAG,DM or📧ChezaKe100@gmail.com \\nBook...</td>\n",
       "      <td>private</td>\n",
       "      <td>1356.0</td>\n",
       "      <td>False</td>\n",
       "    </tr>\n",
       "    <tr>\n",
       "      <th>2</th>\n",
       "      <td>2.616828e+09</td>\n",
       "      <td>Matt Lichti</td>\n",
       "      <td>mllichti</td>\n",
       "      <td>NaN</td>\n",
       "      <td>general</td>\n",
       "      <td>29.0</td>\n",
       "      <td>False</td>\n",
       "    </tr>\n",
       "    <tr>\n",
       "      <th>3</th>\n",
       "      <td>8.006929e+17</td>\n",
       "      <td>East Africa Watch</td>\n",
       "      <td>LugamboBlog</td>\n",
       "      <td>Watching Uganda, Rwanda and Kenya</td>\n",
       "      <td>private</td>\n",
       "      <td>1548.0</td>\n",
       "      <td>False</td>\n",
       "    </tr>\n",
       "    <tr>\n",
       "      <th>4</th>\n",
       "      <td>1.028516e+18</td>\n",
       "      <td>Charles Henry K. Mangua</td>\n",
       "      <td>k_mangua</td>\n",
       "      <td>Am a 'chosen and sent'. Am a Pastor, Evangelis...</td>\n",
       "      <td>general</td>\n",
       "      <td>1.0</td>\n",
       "      <td>False</td>\n",
       "    </tr>\n",
       "  </tbody>\n",
       "</table>\n",
       "</div>"
      ],
      "text/plain": [
       "        user_id                     name  screen_name  \\\n",
       "0  1.150743e+18                  ChezaKe      KeCheza   \n",
       "1  1.150743e+18                  ChezaKe      KeCheza   \n",
       "2  2.616828e+09              Matt Lichti     mllichti   \n",
       "3  8.006929e+17        East Africa Watch  LugamboBlog   \n",
       "4  1.028516e+18  Charles Henry K. Mangua     k_mangua   \n",
       "\n",
       "                                         description    group  \\\n",
       "0  NEWBUZZ\\nTAG,DM or📧ChezaKe100@gmail.com \\nBook...  private   \n",
       "1  NEWBUZZ\\nTAG,DM or📧ChezaKe100@gmail.com \\nBook...  private   \n",
       "2                                                NaN  general   \n",
       "3                  Watching Uganda, Rwanda and Kenya  private   \n",
       "4  Am a 'chosen and sent'. Am a Pastor, Evangelis...  general   \n",
       "\n",
       "   followers_count verified  \n",
       "0           1356.0    False  \n",
       "1           1356.0    False  \n",
       "2             29.0    False  \n",
       "3           1548.0    False  \n",
       "4              1.0    False  "
      ]
     },
     "execution_count": 19,
     "metadata": {},
     "output_type": "execute_result"
    }
   ],
   "source": [
    "all_user.head()"
   ]
  },
  {
   "cell_type": "code",
   "execution_count": 20,
   "metadata": {},
   "outputs": [
    {
     "data": {
      "text/plain": [
       "user_id              0\n",
       "name                 0\n",
       "screen_name          1\n",
       "description        822\n",
       "group                1\n",
       "followers_count      2\n",
       "verified             2\n",
       "dtype: int64"
      ]
     },
     "execution_count": 20,
     "metadata": {},
     "output_type": "execute_result"
    }
   ],
   "source": [
    "#checking for null data\n",
    "all_user.isnull().sum()"
   ]
  },
  {
   "cell_type": "code",
   "execution_count": 21,
   "metadata": {},
   "outputs": [
    {
     "data": {
      "text/plain": [
       "(8580, 7)"
      ]
     },
     "execution_count": 21,
     "metadata": {},
     "output_type": "execute_result"
    }
   ],
   "source": [
    "all_user.shape"
   ]
  },
  {
   "cell_type": "code",
   "execution_count": 22,
   "metadata": {},
   "outputs": [],
   "source": [
    "#dropping all null values\n",
    "all_user.dropna(inplace=True)"
   ]
  },
  {
   "cell_type": "code",
   "execution_count": 23,
   "metadata": {},
   "outputs": [
    {
     "data": {
      "text/plain": [
       "user_id            0\n",
       "name               0\n",
       "screen_name        0\n",
       "description        0\n",
       "group              0\n",
       "followers_count    0\n",
       "verified           0\n",
       "dtype: int64"
      ]
     },
     "execution_count": 23,
     "metadata": {},
     "output_type": "execute_result"
    }
   ],
   "source": [
    "all_user.isnull().sum()"
   ]
  },
  {
   "cell_type": "code",
   "execution_count": 24,
   "metadata": {},
   "outputs": [
    {
     "data": {
      "text/plain": [
       "(7756, 7)"
      ]
     },
     "execution_count": 24,
     "metadata": {},
     "output_type": "execute_result"
    }
   ],
   "source": [
    "all_user.shape"
   ]
  },
  {
   "cell_type": "code",
   "execution_count": 32,
   "metadata": {},
   "outputs": [
    {
     "data": {
      "text/plain": [
       "general       5958\n",
       "private       1332\n",
       "NGO            340\n",
       "government     126\n",
       "Name: group, dtype: int64"
      ]
     },
     "execution_count": 32,
     "metadata": {},
     "output_type": "execute_result"
    }
   ],
   "source": [
    "#show count of all categories in group\n",
    "all_user['group'].value_counts()"
   ]
  },
  {
   "cell_type": "code",
   "execution_count": 30,
   "metadata": {},
   "outputs": [],
   "source": [
    "all_user = all_user.replace(\" private\", \"private\")\n",
    "all_user = all_user.replace(\"nGO\",\"NGO\")"
   ]
  },
  {
   "cell_type": "code",
   "execution_count": 33,
   "metadata": {},
   "outputs": [
    {
     "data": {
      "text/plain": [
       "(array([0, 1, 2, 3]), <a list of 4 Text xticklabel objects>)"
      ]
     },
     "execution_count": 33,
     "metadata": {},
     "output_type": "execute_result"
    },
    {
     "data": {
      "image/png": "[encoded data removed]",
      "text/plain": [
       "<Figure size 720x360 with 1 Axes>"
      ]
     },
     "metadata": {
      "needs_background": "light"
     },
     "output_type": "display_data"
    }
   ],
   "source": [
    "plt.figure(figsize=(10,5))\n",
    "sns.countplot(all_user['group'])\n",
    "plt.xticks(rotation=90)"
   ]
  },
  {
   "cell_type": "code",
   "execution_count": 39,
   "metadata": {},
   "outputs": [],
   "source": [
    "train_test = read_data(all_user)"
   ]
  },
  {
   "cell_type": "code",
   "execution_count": 40,
   "metadata": {},
   "outputs": [
    {
     "data": {
      "text/html": [
       "<div>\n",
       "<style scoped>\n",
       "    .dataframe tbody tr th:only-of-type {\n",
       "        vertical-align: middle;\n",
       "    }\n",
       "\n",
       "    .dataframe tbody tr th {\n",
       "        vertical-align: top;\n",
       "    }\n",
       "\n",
       "    .dataframe thead th {\n",
       "        text-align: right;\n",
       "    }\n",
       "</style>\n",
       "<table border=\"1\" class=\"dataframe\">\n",
       "  <thead>\n",
       "    <tr style=\"text-align: right;\">\n",
       "      <th></th>\n",
       "      <th>description</th>\n",
       "      <th>group</th>\n",
       "    </tr>\n",
       "  </thead>\n",
       "  <tbody>\n",
       "    <tr>\n",
       "      <th>0</th>\n",
       "      <td>NEWBUZZ TAG DM ChezaKe @  gmail com Book Studi...</td>\n",
       "      <td>1</td>\n",
       "    </tr>\n",
       "    <tr>\n",
       "      <th>1</th>\n",
       "      <td>NEWBUZZ TAG DM ChezaKe @  gmail com Book Studi...</td>\n",
       "      <td>1</td>\n",
       "    </tr>\n",
       "    <tr>\n",
       "      <th>3</th>\n",
       "      <td>Watching Uganda Rwanda Kenya</td>\n",
       "      <td>1</td>\n",
       "    </tr>\n",
       "    <tr>\n",
       "      <th>4</th>\n",
       "      <td>Am chosen sent Am Pastor Evangelist herald A m...</td>\n",
       "      <td>0</td>\n",
       "    </tr>\n",
       "    <tr>\n",
       "      <th>5</th>\n",
       "      <td>We connect communicate food secure future Foll...</td>\n",
       "      <td>3</td>\n",
       "    </tr>\n",
       "  </tbody>\n",
       "</table>\n",
       "</div>"
      ],
      "text/plain": [
       "                                         description  group\n",
       "0  NEWBUZZ TAG DM ChezaKe @  gmail com Book Studi...      1\n",
       "1  NEWBUZZ TAG DM ChezaKe @  gmail com Book Studi...      1\n",
       "3                       Watching Uganda Rwanda Kenya      1\n",
       "4  Am chosen sent Am Pastor Evangelist herald A m...      0\n",
       "5  We connect communicate food secure future Foll...      3"
      ]
     },
     "execution_count": 40,
     "metadata": {},
     "output_type": "execute_result"
    }
   ],
   "source": [
    "train_test.head()"
   ]
  },
  {
   "cell_type": "code",
   "execution_count": 41,
   "metadata": {},
   "outputs": [
    {
     "data": {
      "text/plain": [
       "(7756, 2)"
      ]
     },
     "execution_count": 41,
     "metadata": {},
     "output_type": "execute_result"
    }
   ],
   "source": [
    "train_test.shape"
   ]
  },
  {
   "cell_type": "code",
   "execution_count": 43,
   "metadata": {},
   "outputs": [],
   "source": [
    "X = train_test['description']\n",
    "y = train_test['group']"
   ]
  },
  {
   "cell_type": "code",
   "execution_count": 69,
   "metadata": {},
   "outputs": [],
   "source": [
    "#spliting data to train and test with ratio of 9 to 1\n",
    "from sklearn.model_selection import train_test_split\n",
    "X_train,X_test,y_train,y_test = train_test_split(X,y,test_size=0.1, random_state=0)"
   ]
  },
  {
   "cell_type": "code",
   "execution_count": 46,
   "metadata": {},
   "outputs": [],
   "source": [
    "#vectorize the user descriptions (find a numerical coding for each text-based description)\n",
    "v = CountVectorizer(analyzer=\"word\", tokenizer=None, preprocessor=None, stop_words= None, max_features=500)"
   ]
  },
  {
   "cell_type": "code",
   "execution_count": 47,
   "metadata": {},
   "outputs": [],
   "source": [
    "train_vectors = v.fit_transform(X_train)\n",
    "test_vectors = v.fit_transform(X_test)\n"
   ]
  },
  {
   "cell_type": "markdown",
   "metadata": {},
   "source": [
    "# We will now build, train, and test our 5 models."
   ]
  },
  {
   "cell_type": "code",
   "execution_count": 70,
   "metadata": {},
   "outputs": [],
   "source": [
    "y_test = y_test.to_frame()\n",
    "y_test = y_test.reset_index()\n"
   ]
  },
  {
   "cell_type": "code",
   "execution_count": 71,
   "metadata": {},
   "outputs": [
    {
     "data": {
      "text/html": [
       "<div>\n",
       "<style scoped>\n",
       "    .dataframe tbody tr th:only-of-type {\n",
       "        vertical-align: middle;\n",
       "    }\n",
       "\n",
       "    .dataframe tbody tr th {\n",
       "        vertical-align: top;\n",
       "    }\n",
       "\n",
       "    .dataframe thead th {\n",
       "        text-align: right;\n",
       "    }\n",
       "</style>\n",
       "<table border=\"1\" class=\"dataframe\">\n",
       "  <thead>\n",
       "    <tr style=\"text-align: right;\">\n",
       "      <th></th>\n",
       "      <th>index</th>\n",
       "      <th>group</th>\n",
       "    </tr>\n",
       "  </thead>\n",
       "  <tbody>\n",
       "    <tr>\n",
       "      <th>0</th>\n",
       "      <td>922</td>\n",
       "      <td>0</td>\n",
       "    </tr>\n",
       "    <tr>\n",
       "      <th>1</th>\n",
       "      <td>1063</td>\n",
       "      <td>0</td>\n",
       "    </tr>\n",
       "    <tr>\n",
       "      <th>2</th>\n",
       "      <td>987</td>\n",
       "      <td>0</td>\n",
       "    </tr>\n",
       "    <tr>\n",
       "      <th>3</th>\n",
       "      <td>3076</td>\n",
       "      <td>0</td>\n",
       "    </tr>\n",
       "    <tr>\n",
       "      <th>4</th>\n",
       "      <td>1461</td>\n",
       "      <td>1</td>\n",
       "    </tr>\n",
       "  </tbody>\n",
       "</table>\n",
       "</div>"
      ],
      "text/plain": [
       "   index  group\n",
       "0    922      0\n",
       "1   1063      0\n",
       "2    987      0\n",
       "3   3076      0\n",
       "4   1461      1"
      ]
     },
     "execution_count": 71,
     "metadata": {},
     "output_type": "execute_result"
    }
   ],
   "source": [
    "y_test.head()"
   ]
  },
  {
   "cell_type": "markdown",
   "metadata": {},
   "source": [
    "### Logistic Regression"
   ]
  },
  {
   "cell_type": "code",
   "execution_count": 72,
   "metadata": {},
   "outputs": [
    {
     "data": {
      "text/plain": [
       "LogisticRegression()"
      ]
     },
     "execution_count": 72,
     "metadata": {},
     "output_type": "execute_result"
    }
   ],
   "source": [
    "LR = LogisticRegression()\n",
    "LR.fit(train_vectors, y_train)\n"
   ]
  },
  {
   "cell_type": "code",
   "execution_count": 73,
   "metadata": {},
   "outputs": [],
   "source": [
    "y_test['Logistic Regression Predictions'] = LR.predict(test_vectors)"
   ]
  },
  {
   "cell_type": "markdown",
   "metadata": {},
   "source": [
    "### Random Forest Classifier"
   ]
  },
  {
   "cell_type": "code",
   "execution_count": 74,
   "metadata": {},
   "outputs": [],
   "source": [
    "RF = RandomForestClassifier(n_estimators=100)\n",
    "RF.fit(train_vectors, y_train)\n",
    "\n",
    "y_test['Random Forest Predictions'] = RF.predict(test_vectors)"
   ]
  },
  {
   "cell_type": "markdown",
   "metadata": {},
   "source": [
    "### Guassian Naive Bayes\n"
   ]
  },
  {
   "cell_type": "code",
   "execution_count": 75,
   "metadata": {},
   "outputs": [],
   "source": [
    "GNB = GaussianNB()\n",
    "GNB.fit(train_vectors.toarray(), y_train)\n",
    "\n",
    "y_test['GaussianNB Predictions'] = GNB.predict(test_vectors.toarray())"
   ]
  },
  {
   "cell_type": "markdown",
   "metadata": {},
   "source": [
    "### Multinomial Naive Bayes"
   ]
  },
  {
   "cell_type": "code",
   "execution_count": 76,
   "metadata": {},
   "outputs": [],
   "source": [
    "MNB = MultinomialNB()\n",
    "MNB.fit(train_vectors, y_train)\n",
    "\n",
    "y_test['MultinomialNB Predictions'] = MNB.predict(test_vectors)"
   ]
  },
  {
   "cell_type": "markdown",
   "metadata": {},
   "source": [
    "### Support Vector Machine"
   ]
  },
  {
   "cell_type": "code",
   "execution_count": 77,
   "metadata": {},
   "outputs": [],
   "source": [
    "SVM = SVC(kernel = 'linear')\n",
    "SVM.fit(train_vectors, y_train)\n",
    "\n",
    "y_test['SVM Predictions'] = SVM.predict(test_vectors)"
   ]
  },
  {
   "cell_type": "code",
   "execution_count": 78,
   "metadata": {},
   "outputs": [],
   "source": [
    "## Saving Model prediction\n",
    "y_test.to_csv('data/results.csv', index=False)"
   ]
  },
  {
   "cell_type": "code",
   "execution_count": 79,
   "metadata": {},
   "outputs": [
    {
     "data": {
      "text/html": [
       "<div>\n",
       "<style scoped>\n",
       "    .dataframe tbody tr th:only-of-type {\n",
       "        vertical-align: middle;\n",
       "    }\n",
       "\n",
       "    .dataframe tbody tr th {\n",
       "        vertical-align: top;\n",
       "    }\n",
       "\n",
       "    .dataframe thead th {\n",
       "        text-align: right;\n",
       "    }\n",
       "</style>\n",
       "<table border=\"1\" class=\"dataframe\">\n",
       "  <thead>\n",
       "    <tr style=\"text-align: right;\">\n",
       "      <th></th>\n",
       "      <th>index</th>\n",
       "      <th>group</th>\n",
       "      <th>Logistic Regression Predictions</th>\n",
       "      <th>Random Forest Predictions</th>\n",
       "      <th>GaussianNB Predictions</th>\n",
       "      <th>MultinomialNB Predictions</th>\n",
       "      <th>SVM Predictions</th>\n",
       "    </tr>\n",
       "  </thead>\n",
       "  <tbody>\n",
       "    <tr>\n",
       "      <th>0</th>\n",
       "      <td>922</td>\n",
       "      <td>0</td>\n",
       "      <td>0</td>\n",
       "      <td>0</td>\n",
       "      <td>0</td>\n",
       "      <td>0</td>\n",
       "      <td>0</td>\n",
       "    </tr>\n",
       "    <tr>\n",
       "      <th>1</th>\n",
       "      <td>1063</td>\n",
       "      <td>0</td>\n",
       "      <td>0</td>\n",
       "      <td>0</td>\n",
       "      <td>1</td>\n",
       "      <td>0</td>\n",
       "      <td>0</td>\n",
       "    </tr>\n",
       "    <tr>\n",
       "      <th>2</th>\n",
       "      <td>987</td>\n",
       "      <td>0</td>\n",
       "      <td>1</td>\n",
       "      <td>1</td>\n",
       "      <td>0</td>\n",
       "      <td>0</td>\n",
       "      <td>1</td>\n",
       "    </tr>\n",
       "    <tr>\n",
       "      <th>3</th>\n",
       "      <td>3076</td>\n",
       "      <td>0</td>\n",
       "      <td>0</td>\n",
       "      <td>0</td>\n",
       "      <td>3</td>\n",
       "      <td>0</td>\n",
       "      <td>0</td>\n",
       "    </tr>\n",
       "    <tr>\n",
       "      <th>4</th>\n",
       "      <td>1461</td>\n",
       "      <td>1</td>\n",
       "      <td>0</td>\n",
       "      <td>0</td>\n",
       "      <td>0</td>\n",
       "      <td>0</td>\n",
       "      <td>0</td>\n",
       "    </tr>\n",
       "  </tbody>\n",
       "</table>\n",
       "</div>"
      ],
      "text/plain": [
       "   index  group  Logistic Regression Predictions  Random Forest Predictions  \\\n",
       "0    922      0                                0                          0   \n",
       "1   1063      0                                0                          0   \n",
       "2    987      0                                1                          1   \n",
       "3   3076      0                                0                          0   \n",
       "4   1461      1                                0                          0   \n",
       "\n",
       "   GaussianNB Predictions  MultinomialNB Predictions  SVM Predictions  \n",
       "0                       0                          0                0  \n",
       "1                       1                          0                0  \n",
       "2                       0                          0                1  \n",
       "3                       3                          0                0  \n",
       "4                       0                          0                0  "
      ]
     },
     "execution_count": 79,
     "metadata": {},
     "output_type": "execute_result"
    }
   ],
   "source": [
    "y_test.head()"
   ]
  },
  {
   "cell_type": "markdown",
   "metadata": {},
   "source": [
    "## Let's construct a table that has the evaulation metrics of our models¶"
   ]
  },
  {
   "cell_type": "code",
   "execution_count": 80,
   "metadata": {},
   "outputs": [],
   "source": [
    "ts = y_test\n",
    "\n",
    "RF_metric = eval_model('RF', ts['group'], ts['Random Forest Predictions'])\n",
    "LR_metric = eval_model('LR', ts['group'], ts['Logistic Regression Predictions'])\n",
    "GNB_metric = eval_model('GNB', ts['group'], ts['GaussianNB Predictions'])\n",
    "MNB_metric = eval_model('MNB', ts['group'], ts['MultinomialNB Predictions'])\n",
    "SVM_metric = eval_model('SVM', ts['group'], ts['SVM Predictions'])\n",
    "\n",
    "metrics_list = [ RF_metric, LR_metric, GNB_metric, MNB_metric, SVM_metric]\n",
    "metrics = pd.DataFrame(metrics_list)"
   ]
  },
  {
   "cell_type": "code",
   "execution_count": 81,
   "metadata": {},
   "outputs": [
    {
     "data": {
      "text/html": [
       "<div>\n",
       "<style scoped>\n",
       "    .dataframe tbody tr th:only-of-type {\n",
       "        vertical-align: middle;\n",
       "    }\n",
       "\n",
       "    .dataframe tbody tr th {\n",
       "        vertical-align: top;\n",
       "    }\n",
       "\n",
       "    .dataframe thead th {\n",
       "        text-align: right;\n",
       "    }\n",
       "</style>\n",
       "<table border=\"1\" class=\"dataframe\">\n",
       "  <thead>\n",
       "    <tr style=\"text-align: right;\">\n",
       "      <th></th>\n",
       "      <th>Accuracy</th>\n",
       "      <th>F1 Score</th>\n",
       "      <th>Model Name</th>\n",
       "      <th>Precision</th>\n",
       "      <th>Recall</th>\n",
       "      <th>Total FN type</th>\n",
       "      <th>Total FP type</th>\n",
       "      <th>Total TN type</th>\n",
       "      <th>Total TP type</th>\n",
       "    </tr>\n",
       "  </thead>\n",
       "  <tbody>\n",
       "    <tr>\n",
       "      <th>0</th>\n",
       "      <td>0.730028</td>\n",
       "      <td>0.222222</td>\n",
       "      <td>RF</td>\n",
       "      <td>0.269231</td>\n",
       "      <td>0.189189</td>\n",
       "      <td>120</td>\n",
       "      <td>76</td>\n",
       "      <td>502</td>\n",
       "      <td>28</td>\n",
       "    </tr>\n",
       "    <tr>\n",
       "      <th>1</th>\n",
       "      <td>0.768176</td>\n",
       "      <td>0.274678</td>\n",
       "      <td>LR</td>\n",
       "      <td>0.372093</td>\n",
       "      <td>0.217687</td>\n",
       "      <td>115</td>\n",
       "      <td>54</td>\n",
       "      <td>528</td>\n",
       "      <td>32</td>\n",
       "    </tr>\n",
       "    <tr>\n",
       "      <th>2</th>\n",
       "      <td>0.618117</td>\n",
       "      <td>0.390935</td>\n",
       "      <td>GNB</td>\n",
       "      <td>0.305310</td>\n",
       "      <td>0.543307</td>\n",
       "      <td>58</td>\n",
       "      <td>157</td>\n",
       "      <td>279</td>\n",
       "      <td>69</td>\n",
       "    </tr>\n",
       "    <tr>\n",
       "      <th>3</th>\n",
       "      <td>0.741110</td>\n",
       "      <td>0.208696</td>\n",
       "      <td>MNB</td>\n",
       "      <td>0.272727</td>\n",
       "      <td>0.169014</td>\n",
       "      <td>118</td>\n",
       "      <td>64</td>\n",
       "      <td>497</td>\n",
       "      <td>24</td>\n",
       "    </tr>\n",
       "    <tr>\n",
       "      <th>4</th>\n",
       "      <td>0.730663</td>\n",
       "      <td>0.148472</td>\n",
       "      <td>SVM</td>\n",
       "      <td>0.209877</td>\n",
       "      <td>0.114865</td>\n",
       "      <td>131</td>\n",
       "      <td>64</td>\n",
       "      <td>512</td>\n",
       "      <td>17</td>\n",
       "    </tr>\n",
       "  </tbody>\n",
       "</table>\n",
       "</div>"
      ],
      "text/plain": [
       "   Accuracy  F1 Score Model Name  Precision    Recall  Total FN type  \\\n",
       "0  0.730028  0.222222         RF   0.269231  0.189189            120   \n",
       "1  0.768176  0.274678         LR   0.372093  0.217687            115   \n",
       "2  0.618117  0.390935        GNB   0.305310  0.543307             58   \n",
       "3  0.741110  0.208696        MNB   0.272727  0.169014            118   \n",
       "4  0.730663  0.148472        SVM   0.209877  0.114865            131   \n",
       "\n",
       "   Total FP type  Total TN type  Total TP type  \n",
       "0             76            502             28  \n",
       "1             54            528             32  \n",
       "2            157            279             69  \n",
       "3             64            497             24  \n",
       "4             64            512             17  "
      ]
     },
     "execution_count": 81,
     "metadata": {},
     "output_type": "execute_result"
    }
   ],
   "source": [
    "metrics"
   ]
  },
  {
   "cell_type": "code",
   "execution_count": null,
   "metadata": {},
   "outputs": [],
   "source": []
  }
 ],
 "metadata": {
  "kernelspec": {
   "display_name": "Python 3",
   "language": "python",
   "name": "python3"
  },
  "language_info": {
   "codemirror_mode": {
    "name": "ipython",
    "version": 3
   },
   "file_extension": ".py",
   "mimetype": "text/x-python",
   "name": "python",
   "nbconvert_exporter": "python",
   "pygments_lexer": "ipython3",
   "version": "3.6.7"
  }
 },
 "nbformat": 4,
 "nbformat_minor": 2
}
