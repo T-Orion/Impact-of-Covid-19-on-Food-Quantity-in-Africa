{
 "cells": [
  {
   "cell_type": "markdown",
   "metadata": {},
   "source": [
    "## Clean All Data here "
   ]
  },
  {
   "cell_type": "code",
   "execution_count": 1,
   "metadata": {},
   "outputs": [],
   "source": [
    "# Import the libraries\n",
    "from textblob import TextBlob\n",
    "from wordcloud import WordCloud\n",
    "import pandas as pd\n",
    "import numpy as np\n",
    "import re\n",
    "import matplotlib.pyplot as plt\n",
    "plt.style.use('fivethirtyeight')"
   ]
  },
  {
   "cell_type": "markdown",
   "metadata": {},
   "source": [
    "**clean the Nigerian Tweets**"
   ]
  },
  {
   "cell_type": "code",
   "execution_count": 2,
   "metadata": {},
   "outputs": [
    {
     "name": "stdout",
     "output_type": "stream",
     "text": [
      "(14068, 17)\n"
     ]
    }
   ],
   "source": [
    "ng = pd.read_csv('data/NigeriaTweets.csv')\n",
    "print(ng.shape)"
   ]
  },
  {
   "cell_type": "code",
   "execution_count": 3,
   "metadata": {},
   "outputs": [
    {
     "data": {
      "text/html": [
       "<div>\n",
       "<style scoped>\n",
       "    .dataframe tbody tr th:only-of-type {\n",
       "        vertical-align: middle;\n",
       "    }\n",
       "\n",
       "    .dataframe tbody tr th {\n",
       "        vertical-align: top;\n",
       "    }\n",
       "\n",
       "    .dataframe thead th {\n",
       "        text-align: right;\n",
       "    }\n",
       "</style>\n",
       "<table border=\"1\" class=\"dataframe\">\n",
       "  <thead>\n",
       "    <tr style=\"text-align: right;\">\n",
       "      <th></th>\n",
       "      <th>timestamp</th>\n",
       "      <th>created_at</th>\n",
       "      <th>source</th>\n",
       "      <th>original_text</th>\n",
       "      <th>clean_text</th>\n",
       "      <th>sentiment</th>\n",
       "      <th>polarity</th>\n",
       "      <th>subjectivity</th>\n",
       "      <th>lang</th>\n",
       "      <th>favorite_count</th>\n",
       "      <th>retweet_count</th>\n",
       "      <th>original_author</th>\n",
       "      <th>possibly_sensitive</th>\n",
       "      <th>hashtags</th>\n",
       "      <th>user_mentions</th>\n",
       "      <th>place</th>\n",
       "      <th>place_coord_boundaries</th>\n",
       "    </tr>\n",
       "  </thead>\n",
       "  <tbody>\n",
       "    <tr>\n",
       "      <th>0</th>\n",
       "      <td>2020-09-24 01:11:08+00:00</td>\n",
       "      <td>Thu Sep 24 01:11:08 +0000 2020</td>\n",
       "      <td>&lt;a href=\"http://twitter.com/download/iphone\" r...</td>\n",
       "      <td>RT @lmun_ng: Delegate from Nigeria for Food an...</td>\n",
       "      <td>Delegate Nigeria Food Agriculture Organization</td>\n",
       "      <td>Sentiment(polarity=0.0, subjectivity=0.0)</td>\n",
       "      <td>0.0</td>\n",
       "      <td>0.0</td>\n",
       "      <td>en</td>\n",
       "      <td>0</td>\n",
       "      <td>12</td>\n",
       "      <td>JurassicPlug</td>\n",
       "      <td>False</td>\n",
       "      <td>LMUN2020</td>\n",
       "      <td>lmun_ng</td>\n",
       "      <td>NaN</td>\n",
       "      <td>Between her legs</td>\n",
       "    </tr>\n",
       "    <tr>\n",
       "      <th>1</th>\n",
       "      <td>2020-09-24 01:41:48+00:00</td>\n",
       "      <td>Thu Sep 24 01:41:48 +0000 2020</td>\n",
       "      <td>&lt;a href=\"http://twitter.com/download/android\" ...</td>\n",
       "      <td>RT @savndaniel: Young IDPs in Nigeria are sexu...</td>\n",
       "      <td>Young IDPs Nigeria sexually assaulted official...</td>\n",
       "      <td>Sentiment(polarity=0.19999999999999998, subjec...</td>\n",
       "      <td>0.19999999999999998</td>\n",
       "      <td>0.41111111111111115</td>\n",
       "      <td>en</td>\n",
       "      <td>0</td>\n",
       "      <td>168</td>\n",
       "      <td>iam_xtova</td>\n",
       "      <td>NaN</td>\n",
       "      <td>NaN</td>\n",
       "      <td>savndaniel</td>\n",
       "      <td>NaN</td>\n",
       "      <td>Jos, Abuja.</td>\n",
       "    </tr>\n",
       "  </tbody>\n",
       "</table>\n",
       "</div>"
      ],
      "text/plain": [
       "                   timestamp                      created_at  \\\n",
       "0  2020-09-24 01:11:08+00:00  Thu Sep 24 01:11:08 +0000 2020   \n",
       "1  2020-09-24 01:41:48+00:00  Thu Sep 24 01:41:48 +0000 2020   \n",
       "\n",
       "                                              source  \\\n",
       "0  <a href=\"http://twitter.com/download/iphone\" r...   \n",
       "1  <a href=\"http://twitter.com/download/android\" ...   \n",
       "\n",
       "                                       original_text  \\\n",
       "0  RT @lmun_ng: Delegate from Nigeria for Food an...   \n",
       "1  RT @savndaniel: Young IDPs in Nigeria are sexu...   \n",
       "\n",
       "                                          clean_text  \\\n",
       "0     Delegate Nigeria Food Agriculture Organization   \n",
       "1  Young IDPs Nigeria sexually assaulted official...   \n",
       "\n",
       "                                           sentiment             polarity  \\\n",
       "0          Sentiment(polarity=0.0, subjectivity=0.0)                  0.0   \n",
       "1  Sentiment(polarity=0.19999999999999998, subjec...  0.19999999999999998   \n",
       "\n",
       "          subjectivity lang favorite_count retweet_count original_author  \\\n",
       "0                  0.0   en              0            12    JurassicPlug   \n",
       "1  0.41111111111111115   en              0           168       iam_xtova   \n",
       "\n",
       "  possibly_sensitive  hashtags user_mentions place place_coord_boundaries  \n",
       "0              False  LMUN2020       lmun_ng   NaN       Between her legs  \n",
       "1                NaN       NaN    savndaniel   NaN            Jos, Abuja.  "
      ]
     },
     "execution_count": 3,
     "metadata": {},
     "output_type": "execute_result"
    }
   ],
   "source": [
    "ng.head(2)"
   ]
  },
  {
   "cell_type": "markdown",
   "metadata": {},
   "source": [
    "steps to cleaning:\n",
    "1. Drop all rows where clean_text is NaN\n",
    "2. Drop Duplicates rows\n",
    "3. retain all rows where sentence is at least 3 words"
   ]
  },
  {
   "cell_type": "code",
   "execution_count": 31,
   "metadata": {},
   "outputs": [
    {
     "name": "stdout",
     "output_type": "stream",
     "text": [
      "(3539, 17)\n"
     ]
    }
   ],
   "source": [
    "def clean_tweets(df, csvfile):\n",
    "    # drop na in clean tweets column\n",
    "    df = df[df['clean_text'] != df['clean_text'].isna()]\n",
    "    # dropduplicates and drop duplicates in clean tweets\n",
    "    df = df.drop_duplicates().drop_duplicates(subset='clean_text')\n",
    "    # convert int column appropriately\n",
    "    df = df[df['polarity'] != 'polarity']\n",
    "    # convert the created_at column to a datetime object\n",
    "    df['created_at'] = pd.to_datetime(ng['created_at'], errors='coerce')\n",
    "    df['created_at'] = df['created_at'].dt.strftime('%Y-%m-%d')\n",
    "    # convert int column appropriately\n",
    "    df['polarity'] = df['polarity'].astype('float16')\n",
    "    df['subjectivity'] = df['subjectivity'].astype('float16')\n",
    "    df['retweet_count'] = df['retweet_count'].astype('int8')\n",
    "    df['favorite_count'] = df['favorite_count'].astype('int8')\n",
    "    df.to_csv(csvfile, index=False)\n",
    "    return df\n",
    "\n",
    "ng = pd.read_csv('data/NigeriaTweets.csv')\n",
    "ng = clean_tweets(ng, 'data/cleaned_ng_tweets.csv')\n",
    "print(ng.shape)"
   ]
  },
  {
   "cell_type": "code",
   "execution_count": 32,
   "metadata": {},
   "outputs": [
    {
     "name": "stdout",
     "output_type": "stream",
     "text": [
      "(1065, 17)\n"
     ]
    }
   ],
   "source": [
    "ken = pd.read_csv('data/KenyaTweets.csv')\n",
    "ken = clean_tweets(ken, 'data/cleaned_kenya_tweets.csv')\n",
    "print(ken.shape)"
   ]
  },
  {
   "cell_type": "code",
   "execution_count": 33,
   "metadata": {},
   "outputs": [
    {
     "name": "stdout",
     "output_type": "stream",
     "text": [
      "(841, 17)\n"
     ]
    }
   ],
   "source": [
    "sa = pd.read_csv('data/SouthAfricaTweets.csv')\n",
    "sa = clean_tweets(sa, 'data/cleaned_sa_tweets.csv')\n",
    "print(sa.shape)"
   ]
  },
  {
   "cell_type": "markdown",
   "metadata": {},
   "source": [
    "**Separate Tweets as lagos based tweets and others**"
   ]
  },
  {
   "cell_type": "code",
   "execution_count": 8,
   "metadata": {},
   "outputs": [
    {
     "name": "stdout",
     "output_type": "stream",
     "text": [
      "(790, 17)\n"
     ]
    }
   ],
   "source": [
    "lagos_tweets = ng[ng['place_coord_boundaries'].str.contains('Lagos' or 'lagos')== True]\n",
    "print(lagos_tweets.shape)"
   ]
  },
  {
   "cell_type": "code",
   "execution_count": 9,
   "metadata": {},
   "outputs": [
    {
     "data": {
      "text/html": [
       "<div>\n",
       "<style scoped>\n",
       "    .dataframe tbody tr th:only-of-type {\n",
       "        vertical-align: middle;\n",
       "    }\n",
       "\n",
       "    .dataframe tbody tr th {\n",
       "        vertical-align: top;\n",
       "    }\n",
       "\n",
       "    .dataframe thead th {\n",
       "        text-align: right;\n",
       "    }\n",
       "</style>\n",
       "<table border=\"1\" class=\"dataframe\">\n",
       "  <thead>\n",
       "    <tr style=\"text-align: right;\">\n",
       "      <th></th>\n",
       "      <th>timestamp</th>\n",
       "      <th>created_at</th>\n",
       "      <th>source</th>\n",
       "      <th>original_text</th>\n",
       "      <th>clean_text</th>\n",
       "      <th>sentiment</th>\n",
       "      <th>polarity</th>\n",
       "      <th>subjectivity</th>\n",
       "      <th>lang</th>\n",
       "      <th>favorite_count</th>\n",
       "      <th>retweet_count</th>\n",
       "      <th>original_author</th>\n",
       "      <th>possibly_sensitive</th>\n",
       "      <th>hashtags</th>\n",
       "      <th>user_mentions</th>\n",
       "      <th>place</th>\n",
       "      <th>place_coord_boundaries</th>\n",
       "    </tr>\n",
       "  </thead>\n",
       "  <tbody>\n",
       "    <tr>\n",
       "      <th>2</th>\n",
       "      <td>2020-09-24 01:46:05+00:00</td>\n",
       "      <td>2020-09-24</td>\n",
       "      <td>&lt;a href=\"http://twitter.com/download/android\" ...</td>\n",
       "      <td>With the current incident of Flood that occurr...</td>\n",
       "      <td>With current incident Flood occurred Kebbi sta...</td>\n",
       "      <td>Sentiment(polarity=-0.04999999999999999, subje...</td>\n",
       "      <td>-0.049988</td>\n",
       "      <td>0.420898</td>\n",
       "      <td>en</td>\n",
       "      <td>6</td>\n",
       "      <td>3</td>\n",
       "      <td>CorpFarmersTV</td>\n",
       "      <td>False</td>\n",
       "      <td>FoodSystems</td>\n",
       "      <td>NaN</td>\n",
       "      <td>NaN</td>\n",
       "      <td>Lagos, Nigeria Africa 🌍⏩🌏</td>\n",
       "    </tr>\n",
       "    <tr>\n",
       "      <th>56</th>\n",
       "      <td>2020-09-24 05:40:46+00:00</td>\n",
       "      <td>2020-09-24</td>\n",
       "      <td>&lt;a href=\"http://twitter.com/download/iphone\" r...</td>\n",
       "      <td>RT @samlogic_: What is quite unfortunate about...</td>\n",
       "      <td>What quite unfortunate Nigeria How low quality...</td>\n",
       "      <td>Sentiment(polarity=-0.125, subjectivity=0.4250...</td>\n",
       "      <td>-0.125000</td>\n",
       "      <td>0.425049</td>\n",
       "      <td>en</td>\n",
       "      <td>0</td>\n",
       "      <td>37</td>\n",
       "      <td>ADE_RICH</td>\n",
       "      <td>NaN</td>\n",
       "      <td>NaN</td>\n",
       "      <td>samlogic_</td>\n",
       "      <td>NaN</td>\n",
       "      <td>Lagos, Lagos Nigeria</td>\n",
       "    </tr>\n",
       "    <tr>\n",
       "      <th>84</th>\n",
       "      <td>2020-09-24 06:57:17+00:00</td>\n",
       "      <td>2020-09-24</td>\n",
       "      <td>&lt;a href=\"http://twitter.com/download/android\" ...</td>\n",
       "      <td>To all the class of Nigeria citizens who provi...</td>\n",
       "      <td>To theclass Nigeria citizens provide food raim...</td>\n",
       "      <td>Sentiment(polarity=0.4, subjectivity=0.5625)</td>\n",
       "      <td>0.399902</td>\n",
       "      <td>0.562500</td>\n",
       "      <td>en</td>\n",
       "      <td>4</td>\n",
       "      <td>1</td>\n",
       "      <td>GbengaOmosebi_</td>\n",
       "      <td>NaN</td>\n",
       "      <td>NaN</td>\n",
       "      <td>NaN</td>\n",
       "      <td>[[3.198942, 6.4826762], [3.43719, 6.4826762], ...</td>\n",
       "      <td>Lagos, Nigeria🇳🇬</td>\n",
       "    </tr>\n",
       "    <tr>\n",
       "      <th>103</th>\n",
       "      <td>2020-09-24 07:38:13+00:00</td>\n",
       "      <td>2020-09-24</td>\n",
       "      <td>&lt;a href=\"http://twitter.com/download/android\" ...</td>\n",
       "      <td>RT @akinsanyami: @aproko_doctor @adebayo_abdul...</td>\n",
       "      <td>Exactly doc represents Nigeria youths continue...</td>\n",
       "      <td>Sentiment(polarity=-0.020833333333333343, subj...</td>\n",
       "      <td>-0.020828</td>\n",
       "      <td>0.395752</td>\n",
       "      <td>en</td>\n",
       "      <td>0</td>\n",
       "      <td>5</td>\n",
       "      <td>DahneeyDaniels</td>\n",
       "      <td>NaN</td>\n",
       "      <td>NaN</td>\n",
       "      <td>akinsanyami, aproko_doctor, adebayo_abdul2</td>\n",
       "      <td>NaN</td>\n",
       "      <td>Lagos, Nigeria</td>\n",
       "    </tr>\n",
       "    <tr>\n",
       "      <th>104</th>\n",
       "      <td>2020-09-24 07:38:30+00:00</td>\n",
       "      <td>2020-09-24</td>\n",
       "      <td>&lt;a href=\"http://twitter.com/download/android\" ...</td>\n",
       "      <td>RT @YusufMadu_: NIGERIA IS FACING A SERIOUS SE...</td>\n",
       "      <td>NIGERIA IS FACING A SERIOUS SECURITY CHALLENGE...</td>\n",
       "      <td>Sentiment(polarity=-0.3333333333333333, subjec...</td>\n",
       "      <td>-0.333252</td>\n",
       "      <td>0.666504</td>\n",
       "      <td>en</td>\n",
       "      <td>0</td>\n",
       "      <td>-27</td>\n",
       "      <td>food_ikon</td>\n",
       "      <td>NaN</td>\n",
       "      <td>NaN</td>\n",
       "      <td>YusufMadu_</td>\n",
       "      <td>NaN</td>\n",
       "      <td>Lagos, Nigeria</td>\n",
       "    </tr>\n",
       "  </tbody>\n",
       "</table>\n",
       "</div>"
      ],
      "text/plain": [
       "                     timestamp  created_at  \\\n",
       "2    2020-09-24 01:46:05+00:00  2020-09-24   \n",
       "56   2020-09-24 05:40:46+00:00  2020-09-24   \n",
       "84   2020-09-24 06:57:17+00:00  2020-09-24   \n",
       "103  2020-09-24 07:38:13+00:00  2020-09-24   \n",
       "104  2020-09-24 07:38:30+00:00  2020-09-24   \n",
       "\n",
       "                                                source  \\\n",
       "2    <a href=\"http://twitter.com/download/android\" ...   \n",
       "56   <a href=\"http://twitter.com/download/iphone\" r...   \n",
       "84   <a href=\"http://twitter.com/download/android\" ...   \n",
       "103  <a href=\"http://twitter.com/download/android\" ...   \n",
       "104  <a href=\"http://twitter.com/download/android\" ...   \n",
       "\n",
       "                                         original_text  \\\n",
       "2    With the current incident of Flood that occurr...   \n",
       "56   RT @samlogic_: What is quite unfortunate about...   \n",
       "84   To all the class of Nigeria citizens who provi...   \n",
       "103  RT @akinsanyami: @aproko_doctor @adebayo_abdul...   \n",
       "104  RT @YusufMadu_: NIGERIA IS FACING A SERIOUS SE...   \n",
       "\n",
       "                                            clean_text  \\\n",
       "2    With current incident Flood occurred Kebbi sta...   \n",
       "56   What quite unfortunate Nigeria How low quality...   \n",
       "84   To theclass Nigeria citizens provide food raim...   \n",
       "103  Exactly doc represents Nigeria youths continue...   \n",
       "104  NIGERIA IS FACING A SERIOUS SECURITY CHALLENGE...   \n",
       "\n",
       "                                             sentiment  polarity  \\\n",
       "2    Sentiment(polarity=-0.04999999999999999, subje... -0.049988   \n",
       "56   Sentiment(polarity=-0.125, subjectivity=0.4250... -0.125000   \n",
       "84        Sentiment(polarity=0.4, subjectivity=0.5625)  0.399902   \n",
       "103  Sentiment(polarity=-0.020833333333333343, subj... -0.020828   \n",
       "104  Sentiment(polarity=-0.3333333333333333, subjec... -0.333252   \n",
       "\n",
       "     subjectivity lang  favorite_count  retweet_count original_author  \\\n",
       "2        0.420898   en               6              3   CorpFarmersTV   \n",
       "56       0.425049   en               0             37        ADE_RICH   \n",
       "84       0.562500   en               4              1  GbengaOmosebi_   \n",
       "103      0.395752   en               0              5  DahneeyDaniels   \n",
       "104      0.666504   en               0            -27       food_ikon   \n",
       "\n",
       "    possibly_sensitive     hashtags  \\\n",
       "2                False  FoodSystems   \n",
       "56                 NaN          NaN   \n",
       "84                 NaN          NaN   \n",
       "103                NaN          NaN   \n",
       "104                NaN          NaN   \n",
       "\n",
       "                                  user_mentions  \\\n",
       "2                                           NaN   \n",
       "56                                    samlogic_   \n",
       "84                                          NaN   \n",
       "103  akinsanyami, aproko_doctor, adebayo_abdul2   \n",
       "104                                  YusufMadu_   \n",
       "\n",
       "                                                 place  \\\n",
       "2                                                  NaN   \n",
       "56                                                 NaN   \n",
       "84   [[3.198942, 6.4826762], [3.43719, 6.4826762], ...   \n",
       "103                                                NaN   \n",
       "104                                                NaN   \n",
       "\n",
       "        place_coord_boundaries  \n",
       "2    Lagos, Nigeria Africa 🌍⏩🌏  \n",
       "56        Lagos, Lagos Nigeria  \n",
       "84            Lagos, Nigeria🇳🇬  \n",
       "103             Lagos, Nigeria  \n",
       "104             Lagos, Nigeria  "
      ]
     },
     "execution_count": 9,
     "metadata": {},
     "output_type": "execute_result"
    }
   ],
   "source": [
    "lagos_tweets.head()"
   ]
  },
  {
   "cell_type": "code",
   "execution_count": 10,
   "metadata": {},
   "outputs": [
    {
     "name": "stdout",
     "output_type": "stream",
     "text": [
      "(1995, 17)\n"
     ]
    }
   ],
   "source": [
    "other_tweets = ng[ng['place_coord_boundaries'].str.contains('Lagos' or 'lagos')== False]\n",
    "print(other_tweets.shape)"
   ]
  },
  {
   "cell_type": "markdown",
   "metadata": {},
   "source": [
    "Manually explore the data"
   ]
  },
  {
   "cell_type": "code",
   "execution_count": 11,
   "metadata": {},
   "outputs": [
    {
     "name": "stdout",
     "output_type": "stream",
     "text": [
      "Nigeria never divided today give example things bad since .Tell rule law become joke govt chooses court order obey ignore.I n't even want talk insecurity hunger\n",
      "COVID-19 Ecobank Nigeria Supports States With Food Items\n",
      "Its actually ideal date youd get good food drinks two amount Lagos know right spot\n",
      "Dem people wey dey charge food security Nigeria talk say COVID go affect food security Naija especially Lagos FCT two states\n",
      "Happy Independence Day .What love Nigeria Im love varieties native food Amala favorite .What\n",
      "U mean I insult dad gave free food free education free shelter basic amenities thrive life I n't need dad rich Dangote best Can I say Nigeria tho\n",
      "I 'm food plug comes healthy meals give healthy meals tummy crave For Daily Lunch Packs Food trays soup amptews bowls cakes occasion location Lagos deliver anywhere lagos Dm please help RT\n",
      "idiot His career ended shame Today ca n't count midst former players like Okocha Kanu\n",
      "Fighting Hunger Extreme Poverty Written Paschal AgonsiHunger real Nigeria The Minister State\n",
      "NIGHT MARKET IS HERE AGAIN Your fav delish Anike 's TigernutMilk discounted variants del\n"
     ]
    }
   ],
   "source": [
    "for tweets in lagos_tweets['clean_text'].sample(10):\n",
    "    print(tweets)"
   ]
  },
  {
   "cell_type": "code",
   "execution_count": 12,
   "metadata": {},
   "outputs": [
    {
     "name": "stdout",
     "output_type": "stream",
     "text": [
      "Goodmorning Nigeria We gearing launch Lagos Tommorow Wonderful times food del\n",
      "I love fact Nigeria get police system2 I love say food dey scarce3 I love fact job youths4 I love say rich get richer whilst poor get poorer5 I love fact Sars harrasses youth however want without justice\n",
      "Green amp White bottles celebration Nigeria 's independence Thursday Great ambiance great food groovy music\n",
      "It well Same floods ravaging orthern nigeria local food supply chains God help recover loss keep us safe Amen\n",
      "There even debates centered different contemporary topics including gender food sports Even Laycons discussions history always got hyped The problem Nigeria care little positive things dwell negative gives excuse\n",
      "And damn food Some people even fly miles Nigeria going foreign rest\n",
      "bribery n corruption get job Nigeria2- religion fighting other3-economy increase food 4-petroleum increase oil 5-nepa light tarrif high 6-poor health system7- security unstable8-voting system poor9-motivational speaker -unemplaoyment\n",
      "Haba Oga like better food The question said meal think represent Nigeria 's colour perfectly He ask tell us craving moment ... Pity us abeg\n",
      "When cycle blames stop Buhari years office feasible transformation Nigeria During Buhari administration high electricity tariff petrol high price food price hunger rise Nigeria tagged poorest nation earth\n",
      "Good morning already food crisis Nigeria earlier u open borders food import better\n"
     ]
    }
   ],
   "source": [
    "for tweets in other_tweets['clean_text'].sample(10):\n",
    "    print(tweets)"
   ]
  },
  {
   "cell_type": "markdown",
   "metadata": {},
   "source": [
    "Randomly Selecting Tweets shows that people talk about food, Most times people complaain about **hunger** some things that could contribute to thses complains are:\n",
    "1. COVID\n",
    "2. Palliative Distributions\n",
    "3. High Price of Food"
   ]
  },
  {
   "cell_type": "markdown",
   "metadata": {},
   "source": [
    "Exploring a Tweet about advert shows that people dont pay too much attention to the advert "
   ]
  },
  {
   "cell_type": "code",
   "execution_count": 12,
   "metadata": {},
   "outputs": [
    {
     "data": {
      "text/html": [
       "<div>\n",
       "<style scoped>\n",
       "    .dataframe tbody tr th:only-of-type {\n",
       "        vertical-align: middle;\n",
       "    }\n",
       "\n",
       "    .dataframe tbody tr th {\n",
       "        vertical-align: top;\n",
       "    }\n",
       "\n",
       "    .dataframe thead th {\n",
       "        text-align: right;\n",
       "    }\n",
       "</style>\n",
       "<table border=\"1\" class=\"dataframe\">\n",
       "  <thead>\n",
       "    <tr style=\"text-align: right;\">\n",
       "      <th></th>\n",
       "      <th>timestamp</th>\n",
       "      <th>created_at</th>\n",
       "      <th>source</th>\n",
       "      <th>original_text</th>\n",
       "      <th>clean_text</th>\n",
       "      <th>sentiment</th>\n",
       "      <th>polarity</th>\n",
       "      <th>subjectivity</th>\n",
       "      <th>lang</th>\n",
       "      <th>favorite_count</th>\n",
       "      <th>retweet_count</th>\n",
       "      <th>original_author</th>\n",
       "      <th>possibly_sensitive</th>\n",
       "      <th>hashtags</th>\n",
       "      <th>user_mentions</th>\n",
       "      <th>place</th>\n",
       "      <th>place_coord_boundaries</th>\n",
       "    </tr>\n",
       "  </thead>\n",
       "  <tbody>\n",
       "    <tr>\n",
       "      <th>10264</th>\n",
       "      <td>2020-09-29 05:42:30+00:00</td>\n",
       "      <td>Tue Sep 29 05:42:30 +0000 2020</td>\n",
       "      <td>&lt;a href=\"http://twitter.com/download/android\" ...</td>\n",
       "      <td>Good morning Oshodi, Oshogbo, Nigeria, Africa ...</td>\n",
       "      <td>Good morning Oshodi Oshogbo Nigeria Africa wor...</td>\n",
       "      <td>Sentiment(polarity=0.55, subjectivity=0.7)</td>\n",
       "      <td>0.55</td>\n",
       "      <td>0.7</td>\n",
       "      <td>en</td>\n",
       "      <td>6</td>\n",
       "      <td>7</td>\n",
       "      <td>GCFRinTheMaking</td>\n",
       "      <td>NaN</td>\n",
       "      <td>NaN</td>\n",
       "      <td>NaN</td>\n",
       "      <td>NaN</td>\n",
       "      <td>Lagos</td>\n",
       "    </tr>\n",
       "  </tbody>\n",
       "</table>\n",
       "</div>"
      ],
      "text/plain": [
       "                       timestamp                      created_at  \\\n",
       "10264  2020-09-29 05:42:30+00:00  Tue Sep 29 05:42:30 +0000 2020   \n",
       "\n",
       "                                                  source  \\\n",
       "10264  <a href=\"http://twitter.com/download/android\" ...   \n",
       "\n",
       "                                           original_text  \\\n",
       "10264  Good morning Oshodi, Oshogbo, Nigeria, Africa ...   \n",
       "\n",
       "                                              clean_text  \\\n",
       "10264  Good morning Oshodi Oshogbo Nigeria Africa wor...   \n",
       "\n",
       "                                        sentiment polarity subjectivity lang  \\\n",
       "10264  Sentiment(polarity=0.55, subjectivity=0.7)     0.55          0.7   en   \n",
       "\n",
       "      favorite_count retweet_count  original_author possibly_sensitive  \\\n",
       "10264              6             7  GCFRinTheMaking                NaN   \n",
       "\n",
       "      hashtags user_mentions place place_coord_boundaries  \n",
       "10264      NaN           NaN   NaN                  Lagos  "
      ]
     },
     "execution_count": 12,
     "metadata": {},
     "output_type": "execute_result"
    }
   ],
   "source": [
    "lagos_tweets[lagos_tweets['clean_text'] == \"Good morning Oshodi Oshogbo Nigeria Africa world order Guess y'all beautiful night I still sell nice palms sneakers sandals slides clothing accessories All affordable rate Kindly patronize please Do n't let hunger send back town\"]"
   ]
  },
  {
   "cell_type": "code",
   "execution_count": 13,
   "metadata": {},
   "outputs": [
    {
     "data": {
      "text/html": [
       "<div>\n",
       "<style scoped>\n",
       "    .dataframe tbody tr th:only-of-type {\n",
       "        vertical-align: middle;\n",
       "    }\n",
       "\n",
       "    .dataframe tbody tr th {\n",
       "        vertical-align: top;\n",
       "    }\n",
       "\n",
       "    .dataframe thead th {\n",
       "        text-align: right;\n",
       "    }\n",
       "</style>\n",
       "<table border=\"1\" class=\"dataframe\">\n",
       "  <thead>\n",
       "    <tr style=\"text-align: right;\">\n",
       "      <th></th>\n",
       "      <th>timestamp</th>\n",
       "      <th>created_at</th>\n",
       "      <th>source</th>\n",
       "      <th>original_text</th>\n",
       "      <th>clean_text</th>\n",
       "      <th>sentiment</th>\n",
       "      <th>polarity</th>\n",
       "      <th>subjectivity</th>\n",
       "      <th>lang</th>\n",
       "      <th>favorite_count</th>\n",
       "      <th>retweet_count</th>\n",
       "      <th>original_author</th>\n",
       "      <th>possibly_sensitive</th>\n",
       "      <th>hashtags</th>\n",
       "      <th>user_mentions</th>\n",
       "      <th>place</th>\n",
       "      <th>place_coord_boundaries</th>\n",
       "    </tr>\n",
       "  </thead>\n",
       "  <tbody>\n",
       "    <tr>\n",
       "      <th>6497</th>\n",
       "      <td>2020-09-24 04:57:59+00:00</td>\n",
       "      <td>Thu Sep 24 04:57:59 +0000 2020</td>\n",
       "      <td>&lt;a href=\"http://twitter.com/download/android\" ...</td>\n",
       "      <td>RT @followlasg: Gov. Sanwo-Olu at CA-COVID Cer...</td>\n",
       "      <td>Gov Sanwo-Olu CA-COVID Ceremonial Handover Foo...</td>\n",
       "      <td>Sentiment(polarity=0.05, subjectivity=0.35)</td>\n",
       "      <td>0.05</td>\n",
       "      <td>0.35</td>\n",
       "      <td>en</td>\n",
       "      <td>0</td>\n",
       "      <td>17</td>\n",
       "      <td>Reginamundimush</td>\n",
       "      <td>NaN</td>\n",
       "      <td>NaN</td>\n",
       "      <td>followlasg</td>\n",
       "      <td>NaN</td>\n",
       "      <td>Babaolosha-Mushin, Lagos, Nig.</td>\n",
       "    </tr>\n",
       "  </tbody>\n",
       "</table>\n",
       "</div>"
      ],
      "text/plain": [
       "                      timestamp                      created_at  \\\n",
       "6497  2020-09-24 04:57:59+00:00  Thu Sep 24 04:57:59 +0000 2020   \n",
       "\n",
       "                                                 source  \\\n",
       "6497  <a href=\"http://twitter.com/download/android\" ...   \n",
       "\n",
       "                                          original_text  \\\n",
       "6497  RT @followlasg: Gov. Sanwo-Olu at CA-COVID Cer...   \n",
       "\n",
       "                                             clean_text  \\\n",
       "6497  Gov Sanwo-Olu CA-COVID Ceremonial Handover Foo...   \n",
       "\n",
       "                                        sentiment polarity subjectivity lang  \\\n",
       "6497  Sentiment(polarity=0.05, subjectivity=0.35)     0.05         0.35   en   \n",
       "\n",
       "     favorite_count retweet_count  original_author possibly_sensitive  \\\n",
       "6497              0            17  Reginamundimush                NaN   \n",
       "\n",
       "     hashtags user_mentions place          place_coord_boundaries  \n",
       "6497      NaN    followlasg   NaN  Babaolosha-Mushin, Lagos, Nig.  "
      ]
     },
     "execution_count": 13,
     "metadata": {},
     "output_type": "execute_result"
    }
   ],
   "source": [
    "lagos_tweets[lagos_tweets['clean_text'] == \"Gov Sanwo-Olu CA-COVID Ceremonial Handover Food Palliatives State Government Lagos House Alausa Ikeja\"]"
   ]
  },
  {
   "cell_type": "markdown",
   "metadata": {},
   "source": [
    "The retweet count about the palliative is not so much"
   ]
  },
  {
   "cell_type": "code",
   "execution_count": 14,
   "metadata": {},
   "outputs": [
    {
     "data": {
      "text/html": [
       "<div>\n",
       "<style scoped>\n",
       "    .dataframe tbody tr th:only-of-type {\n",
       "        vertical-align: middle;\n",
       "    }\n",
       "\n",
       "    .dataframe tbody tr th {\n",
       "        vertical-align: top;\n",
       "    }\n",
       "\n",
       "    .dataframe thead th {\n",
       "        text-align: right;\n",
       "    }\n",
       "</style>\n",
       "<table border=\"1\" class=\"dataframe\">\n",
       "  <thead>\n",
       "    <tr style=\"text-align: right;\">\n",
       "      <th></th>\n",
       "      <th>timestamp</th>\n",
       "      <th>created_at</th>\n",
       "      <th>source</th>\n",
       "      <th>original_text</th>\n",
       "      <th>clean_text</th>\n",
       "      <th>sentiment</th>\n",
       "      <th>polarity</th>\n",
       "      <th>subjectivity</th>\n",
       "      <th>lang</th>\n",
       "      <th>favorite_count</th>\n",
       "      <th>retweet_count</th>\n",
       "      <th>original_author</th>\n",
       "      <th>possibly_sensitive</th>\n",
       "      <th>hashtags</th>\n",
       "      <th>user_mentions</th>\n",
       "      <th>place</th>\n",
       "      <th>place_coord_boundaries</th>\n",
       "    </tr>\n",
       "  </thead>\n",
       "  <tbody>\n",
       "    <tr>\n",
       "      <th>2626</th>\n",
       "      <td>2020-09-27 09:37:34+00:00</td>\n",
       "      <td>Sun Sep 27 09:37:34 +0000 2020</td>\n",
       "      <td>&lt;a href=\"http://twitter.com/download/android\" ...</td>\n",
       "      <td>RT @borie_nla: The COVID19 impact on food prod...</td>\n",
       "      <td>The COVID19 impact food production around worl...</td>\n",
       "      <td>Sentiment(polarity=-1.0, subjectivity=1.0)</td>\n",
       "      <td>-1.0</td>\n",
       "      <td>1.0</td>\n",
       "      <td>en</td>\n",
       "      <td>0</td>\n",
       "      <td>3</td>\n",
       "      <td>ba55ey</td>\n",
       "      <td>NaN</td>\n",
       "      <td>NaN</td>\n",
       "      <td>borie_nla</td>\n",
       "      <td>NaN</td>\n",
       "      <td>Lagos, Nigeria</td>\n",
       "    </tr>\n",
       "  </tbody>\n",
       "</table>\n",
       "</div>"
      ],
      "text/plain": [
       "                      timestamp                      created_at  \\\n",
       "2626  2020-09-27 09:37:34+00:00  Sun Sep 27 09:37:34 +0000 2020   \n",
       "\n",
       "                                                 source  \\\n",
       "2626  <a href=\"http://twitter.com/download/android\" ...   \n",
       "\n",
       "                                          original_text  \\\n",
       "2626  RT @borie_nla: The COVID19 impact on food prod...   \n",
       "\n",
       "                                             clean_text  \\\n",
       "2626  The COVID19 impact food production around worl...   \n",
       "\n",
       "                                       sentiment polarity subjectivity lang  \\\n",
       "2626  Sentiment(polarity=-1.0, subjectivity=1.0)     -1.0          1.0   en   \n",
       "\n",
       "     favorite_count retweet_count original_author possibly_sensitive hashtags  \\\n",
       "2626              0             3          ba55ey                NaN      NaN   \n",
       "\n",
       "     user_mentions place place_coord_boundaries  \n",
       "2626     borie_nla   NaN         Lagos, Nigeria  "
      ]
     },
     "execution_count": 14,
     "metadata": {},
     "output_type": "execute_result"
    }
   ],
   "source": [
    "lagos_tweets[lagos_tweets['clean_text'] == \"The COVID19 impact food production around world terrible one would think Nigeria alone facing\"]"
   ]
  },
  {
   "cell_type": "markdown",
   "metadata": {},
   "source": [
    "So instead of checking all the tweets one after another to see the retweets counts and likes why dont we evaluate thegeneral retweets counts let use the timeseries "
   ]
  },
  {
   "cell_type": "code",
   "execution_count": 13,
   "metadata": {},
   "outputs": [
    {
     "name": "stdout",
     "output_type": "stream",
     "text": [
      "<class 'pandas.core.frame.DataFrame'>\n",
      "Int64Index: 3539 entries, 0 to 14054\n",
      "Data columns (total 17 columns):\n",
      " #   Column                  Non-Null Count  Dtype  \n",
      "---  ------                  --------------  -----  \n",
      " 0   timestamp               3539 non-null   object \n",
      " 1   created_at              3539 non-null   object \n",
      " 2   source                  3539 non-null   object \n",
      " 3   original_text           3539 non-null   object \n",
      " 4   clean_text              3538 non-null   object \n",
      " 5   sentiment               3539 non-null   object \n",
      " 6   polarity                3539 non-null   float16\n",
      " 7   subjectivity            3539 non-null   float16\n",
      " 8   lang                    3539 non-null   object \n",
      " 9   favorite_count          3539 non-null   int8   \n",
      " 10  retweet_count           3539 non-null   int8   \n",
      " 11  original_author         3539 non-null   object \n",
      " 12  possibly_sensitive      1014 non-null   object \n",
      " 13  hashtags                761 non-null    object \n",
      " 14  user_mentions           2271 non-null   object \n",
      " 15  place                   109 non-null    object \n",
      " 16  place_coord_boundaries  2785 non-null   object \n",
      "dtypes: float16(2), int8(2), object(13)\n",
      "memory usage: 407.8+ KB\n"
     ]
    }
   ],
   "source": [
    "ng.info()"
   ]
  },
  {
   "cell_type": "code",
   "execution_count": 21,
   "metadata": {},
   "outputs": [],
   "source": [
    "def time_trend(df, city):\n",
    "    ax = df.groupby('created_at')[['retweet_count', 'favorite_count']].sum().plot(figsize=(10,8))\n",
    "    plt.title(f'Trend of likes and retweets for {city}', size=20)\n",
    "    plt.ylabel('Frequency', fontsize=14)\n",
    "    plt.xlabel('Time', fontsize=14)\n",
    "    plt.xticks(rotation=45)\n",
    "    plt.show()"
   ]
  },
  {
   "cell_type": "code",
   "execution_count": 22,
   "metadata": {},
   "outputs": [
    {
     "name": "stderr",
     "output_type": "stream",
     "text": [
      "c:\\users\\abuton\\appdata\\local\\programs\\python\\python37\\lib\\site-packages\\pandas\\plotting\\_matplotlib\\core.py:1235: UserWarning: FixedFormatter should only be used together with FixedLocator\n",
      "  ax.set_xticklabels(xticklabels)\n"
     ]
    },
    {
     "data": {
      "image/png": "[encoded data removed]",
      "text/plain": [
       "<Figure size 720x576 with 1 Axes>"
      ]
     },
     "metadata": {},
     "output_type": "display_data"
    }
   ],
   "source": [
    "time_trend(ng, 'Nigeria')"
   ]
  },
  {
   "cell_type": "code",
   "execution_count": 23,
   "metadata": {},
   "outputs": [
    {
     "name": "stderr",
     "output_type": "stream",
     "text": [
      "c:\\users\\abuton\\appdata\\local\\programs\\python\\python37\\lib\\site-packages\\pandas\\plotting\\_matplotlib\\core.py:1235: UserWarning: FixedFormatter should only be used together with FixedLocator\n",
      "  ax.set_xticklabels(xticklabels)\n"
     ]
    },
    {
     "data": {
      "image/png": "[encoded data removed]",
      "text/plain": [
       "<Figure size 720x576 with 1 Axes>"
      ]
     },
     "metadata": {},
     "output_type": "display_data"
    }
   ],
   "source": [
    "time_trend(lagos_tweets, 'Lagos')"
   ]
  },
  {
   "cell_type": "code",
   "execution_count": 24,
   "metadata": {},
   "outputs": [
    {
     "name": "stderr",
     "output_type": "stream",
     "text": [
      "c:\\users\\abuton\\appdata\\local\\programs\\python\\python37\\lib\\site-packages\\pandas\\plotting\\_matplotlib\\core.py:1235: UserWarning: FixedFormatter should only be used together with FixedLocator\n",
      "  ax.set_xticklabels(xticklabels)\n"
     ]
    },
    {
     "data": {
      "image/png": "[encoded data removed]",
      "text/plain": [
       "<Figure size 720x576 with 1 Axes>"
      ]
     },
     "metadata": {},
     "output_type": "display_data"
    }
   ],
   "source": [
    "time_trend(other_tweets, 'States diff Lagos')"
   ]
  },
  {
   "cell_type": "code",
   "execution_count": 25,
   "metadata": {},
   "outputs": [],
   "source": [
    "ng.to_csv('data/cleaned_ng_tweets.csv', index=False)"
   ]
  },
  {
   "cell_type": "code",
   "execution_count": 27,
   "metadata": {},
   "outputs": [
    {
     "data": {
      "text/plain": [
       "array(['In Nigeria farming dangerous occupation merciless killings becoming prevalent',\n",
       "       'Celebrating Nigeria NaijaFest Gage Park City Brampton We shared Nigerian food snacks Non-Nigerians taste naija',\n",
       "       'Here youll work hard get basic things .. food clothing shelter Of course make easy get But easier acquire luxury youre talking better Nigeria Should even start taxes',\n",
       "       'Big brother housemates packing food nylon get ready end today ..... This show rate hunger poverty Nigeria',\n",
       "       'We faced serious problem food animal production Nigeria particularly poultry farmers Indiscriminate use antimicrobials n non-observance withdrawal periods sale consumption poultry poultry products disaster war AMR',\n",
       "       \"This opportunity Awudu 's Food Co. Abuja Nigeria\",\n",
       "       \"This post Awudu 's Food Co. Abuja Nigeria\",\n",
       "       'little way I want help one million people start raising fish homes T',\n",
       "       'Give leader Nigeria see mess would make It goes say',\n",
       "       \"I would voted 'make Naira great banning kpomo means banning one Nigeria 's fundamental food Both north south Knowing kind country live possible All would 'cause inflation kpomo prices Like price rice rose\",\n",
       "       'Nigeria puppet nation imperialists ADOS constantly subjected racial profiling social injustice',\n",
       "       'Organize groceries style With latest technology keep food fresh sleek Hisense Refrigerator WS Side By Side designed make life easier For details kindly click link contact us',\n",
       "       'According long-standing poverty statistics poverty rate Nigerias south-west south-south north-east north-west In spite statistics majority food produced Nigeria comes North',\n",
       "       'Great opportunity put Nigeria pedestal We keep rising promoting sustainable',\n",
       "       'Offline merchant payments still problem Nigeria How I know Spent hour Megachicken yesterday trying pay food',\n",
       "       'We faced serious problem food animal production Nigeria particularly poultry farmers Indiscriminat',\n",
       "       'Dear Nigerians come peace Someone said Nigerian church USA United States America gives members first timers FOOD Sunday Service every time reciprocated Nigeria.Do know reason',\n",
       "       'Dear Nigerians come peace Someone said Nigerian church USA United States America gives',\n",
       "       \"meet 'otokocha okocha nigeria 's anime character designed tokyo olympics birthday october stheight blood type Ospecial skill guitar blue funk afrobeat favorite food pepper soupnicknamed `` midoricchi ''\",\n",
       "       \"meet 'otokocha okocha nigeria 's anime character designed tokyo olympics birthday october\",\n",
       "       'How help prevent spread crowded communities John Yerima Food Security Livelihood Manager Borno State answer',\n",
       "       'Spend strategic marketing business get us shelves large retail chains Nigeria -Addide Stores- Ebeano- Shoprite Just rite Food CoPlease patronize quality brand',\n",
       "       'Spend strategic marketing business get us shelves large retail ch',\n",
       "       'food served',\n",
       "       'In Nigeria reverse case Everything high ... electricity high fuel high food stuffs high etc useless government far',\n",
       "       'dangerous live food .. go hustle street dangerous',\n",
       "       'Being Successful Abroad Comes With A Lot Of Sacrifices Your Nigerian Or African Friends Here Will Never Be Same As They Were When Both Of You Still Lived In Nigeria You Cant Just Visit And Eat Their Food Anyhow',\n",
       "       'Congrats Dorling baby winner already without winning grand prize bagged Million trip Scotland trip Capetown smart tv endorsement free food M 500 Bitcoin almost k song got almost k streams baby WINNER',\n",
       "       'Nigeria .- Not traversable rail- Steady decline quality education healthcare power supply food supply human capital- Political leadership obsessed control rather mass development You choose celebrate country thats fine.I',\n",
       "       'As saying goes one man food another man poison',\n",
       "       'Makoko Lagos|NIGERIA Are poorest amp vulnerable communities getting access social safety nets amp nutritious food pandemic period A peep Makoko waterfront community Lagos lagoon',\n",
       "       'They said amongst countries plunge famine food scarcity due inflation prices must continue shey ..',\n",
       "       'Makoko Lagos|NIGERIA Are poorest amp vulnerable communities getting access social safety nets amp nutritious',\n",
       "       \"What 're UK food Nigeria\",\n",
       "       'Power may involved simplistic A Nigerian move abroad watch Nigerian tv/movies eat ja food sleep twitterNG keep ja friends amp never interacts environment adapt culture Time marry theyll think Nigeria',\n",
       "       'I havent spent hours Nigeria I think I food poisoning already',\n",
       "       \"Again 's relative I would comfortable dating Nigerian Nigeria albeit plans unite say years tops dating someone ca n't even share food\",\n",
       "       'Power may involved simplistic A Nigerian move abroad watch Nigerian tv/movies eat j',\n",
       "       'Applications hereby invited United Nations World Food Programme UNWFP Procurement Officer Recruitment Nigeria.Details amp Application Link gt gt',\n",
       "       'Pls give awwwway remaining food BBN fans Tenkyhu',\n",
       "       'Nigeria Great nation What made us great That sent rocket space build supersonic fighter jet Or expert food half world eat Nigeria never great Great nation past Greece Rome/ Babylon etc appeared great great',\n",
       "       'Its discipline practice natural Strength.Nigerian generally strong especially ones south north central mostly due kind food eat.Both Usman /Adesanya aredoing us proud.On lighter note Nigeria would fate',\n",
       "       'If Nigerias infrastructural issues dealt electricity transport farm equipment etc closed borders high tariffs continue harm consumers without benefit growing local producers',\n",
       "       \"It 's crazy ridiculous .. one hissing buying food stuff time That 's Nigeria .. SMH\",\n",
       "       'food food inspiration',\n",
       "       'If Nigerias infrastructural issues dealt electricity transport farm equipment etc closed borde',\n",
       "       'Is Nigeria Truly independent country na yahoo yahoo dey place 60yrs No lightNo road No security No jobsNo portable waterNo foodNo social justice',\n",
       "       'Is Nigeria Truly independent country na yahoo yahoo dey place 60yrs No lightNo road',\n",
       "       'Nigeria killed negotiating leverage African Trade Border Closure.We used stupidity cause man mad',\n",
       "       \"Please Attach `` President '' Buhari lets know exactly u talking becos know man never rule Nigeria ... Jeans n shirt food let visit America first lets check something\",\n",
       "       'In one year Nigerians experience increase rice increase breadYet Nigerians earning le',\n",
       "       \"Still time join Oladosu live Nigeria explaining links climate change food security terrorism women 's rights.Did know Lake Chad supports million people\",\n",
       "       'NIGERIANS LETS SEE YOUR TASTE IN OUR FOODAs Nigerian Independence Day edging closer heres thread Nigerian food QT reply tweet answers',\n",
       "       'NIGERIANS LETS SEE YOUR TASTE IN OUR FOODAs Nigerian Independence Day edging closer heres thread Nigerian',\n",
       "       'Flooding destroyed crops food animal feed prices risen',\n",
       "       'There lot couples Nigeria cant afford eat hire house help chores cook food If option would love served Stop defining people standards please',\n",
       "       'Electricity tariff food petrol price hike Who bankroll Nigerians It really midnight Nigeria',\n",
       "       \"Push get basic things within capacity great life Nigeria else 'll daily frustrated.Get peaceful relationship- water- food- decent job- serene accommodation- stable electricity- internetPray Advocate things\",\n",
       "       \"Those ought prevent ai n't ready drop price Petrol food others People dying daily hunger 's hard year already countries make thing soft yr citizens despite pandemic Nigeria leaders see means milking\",\n",
       "       'Experts caution FG forex ban food importation The Sun Nigeria Daily Sun Experts caution FG forex ban food importation The Sun NigeriaDaily Sun',\n",
       "       'Latest Sports Football News Nigeria Sports247 Minister Youth Sports Sponsors Trainning Young Oyo Farmers gt bid eradicate poverty ensure food security Oyo state honourable Minister Youth andSports Devel ...',\n",
       "       'Leave Nigeria alone Venezuela The fuel shortage daily menace lack food supplies inflation DJT buys oil',\n",
       "       'Nigeria made effort improve success exporters For example Nigerian Export Promotion Council NEPC put together training educate exporters international food safety standards',\n",
       "       \"`` Mr Salami kept saying feels embarrassed talking job He also lamented years retired seated home eating Tuwo popular food northern part Nigeria without disturbance Mr Ojaoma told PREMIUM TIMES ''\",\n",
       "       'Can Nigeria tackle food insecurity The Nation Newspaper',\n",
       "       'Agritech West Africa Nigeria',\n",
       "       'Can Nigeria tackle food insecurity',\n",
       "       \"It 's year since expos fast food joints Nigeria use drugs like paracetamol tenderize meat order shorten cooking time especially cooking beef edibles require long cooking hours\",\n",
       "       \"It 's year since expos fast food joints Nigeria use drugs like paracetamol tenderize mea\",\n",
       "       'Experts caution FG forex ban food importation The Sun Nigeria Daily Sun',\n",
       "       \"When city people n't know food crops produced possibility n't appreciate work farm pr\",\n",
       "       \"The Presidential Fertilizer Initiative FarmerMoni Livestock Productivity amp Resilience Support Project NIRSAL Agro Agriculture Food amp Jobs Plan N-Power Agro etc launched give support 's vision revolutionizing Agric Nigeria\",\n",
       "       'The Presidential Fertilizer Initiative FarmerMoni Livestock Productivity amp Resilience Support Project NIRSAL Agro Agri',\n",
       "       'NOW THAT BIG BROTHER NAIJA HAS ENDED WHAT NEXT ASUU STRIKE NLC STRIKE COLLEGE OF EDUCATION STRIKE FUEL NO DEY FOOD WAN FINISH ZULUM DEY COLLECT BEATING NIGERIA WAN CLOSE SHOP.write ..',\n",
       "       'Welcome back reality Nothing changed country.Electricity tariff skyrocketed Same goes fuel food prices.It looks like NLC might keep promises cos people able dissuade photoshoot.Welcome Nigeria',\n",
       "       'Floods early month across northwest Nigeria destroyed percent two million tonnes Kebbi state officials expected harvest autumn The loss amounts percent rice Nigeria grew last year',\n",
       "       'Now BBNaija ended favourite Can go back facing Nigeria problem neglected euphoria BBN Fuel price highElectricity tarrif highFood price rocket',\n",
       "       'SARS still harassing shooting youths Nigeria still debt still lacks good roads infrastructure health care.There hike price everything light fuel food increase salary instead owe workers',\n",
       "       'The best world rejected meals Nigeria better Ghana best food',\n",
       "       \"Dear Nigeria Youth Now That BBNaija Over wo n't Shift Concentration Nigeria issue Bayi From Fuel Hike To Electrificity Hike To Bad Roads Food Price Hike Hyper-Inflation\",\n",
       "       \"Apart toilet better food u Nigeria nonesense talks ur country dey face serious light problem u dey Twitter dey useless things mean u n't lust u soon get loghtout\",\n",
       "       \"Nigeria n't everyone anymore today survival fittest Food ought basic need life today serve measure wealth It pathetic\",\n",
       "       'I sabi cook foreign food Just tell favorite Nigeria soup I get done',\n",
       "       'Reminder Nigeria runs trade surplus West Africa.Nigeria exports way import West Africa th',\n",
       "       'I never forget traitors Southern Nigeria supported economic sabotage.Buhari implemented',\n",
       "       'Electricity tariff food petrol price hike Who bankroll N',\n",
       "       'Can tweaked work food cake business Nigeria Would selling',\n",
       "       'Good day sir please help siblings hardship country Nigeria much nothing fort happening level hungry much homeless asking money food thank',\n",
       "       \"Amazin That exactly corrupt leaders home country Nigeria role `` Feed '' chew food instead speak corruption\",\n",
       "       'Lagos Italian food scene also', 'send food Lagos please',\n",
       "       \"The hall food waste I Lagos I 'd attended\",\n",
       "       'Compared Lagos food yes At least I see TL',\n",
       "       'Boys steady using bare minimum food chance babes Lagos Thank God moved quick balance sheet enter red',\n",
       "       'Which one Lagos owing food',\n",
       "       \"love Lagos Muslims.Laycon prayed meal eating Nengi saying 'God bless thi\",\n",
       "       'Me Lagos-IBadan express way ... food shd ready time I enter lagos',\n",
       "       'Logistics costs high Several entrepreneurs would rather import London Lagos transport food P',\n",
       "       'Theres guy sells food N800 lagos free delivery ground gbadaga I always see Pleas someone tag',\n",
       "       'Hope share divorce wedding food ..',\n",
       "       'Men quietly deliberately taking food business Lagos.From place bukka hut fine dinning restaurants baskets laredo street food outlets',\n",
       "       'Happy Sunday guys A newly added menu pack fish sides To order dm WhatsApp delivery Lagos Please retweet',\n",
       "       'Cooking passion I I well I make food living I like make life eas',\n",
       "       'All sea food boil shenanigans Lagos mad av Is scam man right',\n",
       "       'True say bus driver kids hes got work morning till night pay rents school fees provide food',\n",
       "       'Men quietly deliberately taking food business Lagos.From place bukka hut fine dinning restaurants',\n",
       "       'When customers call say loved potatoes vegetables I love But see .. I make deliveries Lagos .. heart always mouth The road bad I worry till food received .. today another days',\n",
       "       'They teased packing cooked food Lagos Yola begging food.Me Nehi Na Mama born',\n",
       "       'Lmaoooooo hotel please Hotel food Lagos trash smh',\n",
       "       'Tottenhams todays Congratulations guys tiny slice sleek contemporary',\n",
       "       'WE MAKE YOUR EVENT TASTE FILLED',\n",
       "       'I wait touch Lagos eat food people',\n",
       "       \"The availability human natural resources Nigeria yet always unavailable created hunger poverty par 's major reason many Nigerians irrationally handicapped The choices every group Nigeria disagrees varying degrees\",\n",
       "       \"Hunger greatest threat Nigeria 's greatness\",\n",
       "       'Climate change crisis continues ravage country east west north south watch lives destroyed flooding livelihood affected hunger poverty continues rise Nigeria depend climate related activities',\n",
       "       'Climate change crisis continues ravage country east west north south watch lives',\n",
       "       \"My dear n't ask question please The present Nigeria someone gives big help The hunger end I ca n't raise head Seating calculating brain wife children eat day You save family\",\n",
       "       'Nigeria years independence hunger Land',\n",
       "       'Many Nigerians diaing age hunger suffering created administration kind change promised Nigeria better worse',\n",
       "       'Many Nigerians diaing age hunger suffering created administration th',\n",
       "       \"The money talk see one person benefit They n't pay local contractor work families hunger Nigeria many promises\",\n",
       "       \"Coronavirus n't kill us Nigeria Hunger poverty bandit boko haram killed coronavirus\",\n",
       "       'among worst hotspots',\n",
       "       'NLC strike starts tomorrowASUU strike still ongoing.Borders still closedFuel Naira1Dollar nairaHunger land.BokoHaram still killing ... Welcome Nigeria Thursday',\n",
       "       'DADDY Nigeria people de hunger fa thoor',\n",
       "       'So many broke people streets Nigeria .. Hoping someday someone would raise Ericais broke Raise poor masses hunger help earn living',\n",
       "       'In remarks State CAN chairman Most Rev P. A Olawoore recalled Fragile State Index places Nigeria number worldwide number Africa He encouraged Nigerian leaders prioritize eradication poverty hunger land',\n",
       "       'Back hunger nigeria',\n",
       "       'In remarks State CAN chairman Most Rev P. A Olawoore recalled Fragile State Index places Nigeria nu',\n",
       "       'He said hausa Fulani wrong The whole Nigeria came together igbos The man instigated blockade led starvation Yoruba man South West Nigeria The starvation led million death mostly children',\n",
       "       \"African Christians n't fall `` Christian heritage '' n't prevent Italians using poison gas Christia\",\n",
       "       \"`` Christian heritage '' n't prevent Italians using poison gas Christian Ethiopian villagers UK problems complicit starvation millions Christian kids Nigeria 's civil war Oil important .-\",\n",
       "       \"`` Christian heritage '' n't prevent Italians using poison gas Christian Ethiopian villagers UK problems bei\",\n",
       "       'Southern Nigeria primary Igbo sought separate formed nation called Biafra Beauti',\n",
       "       'But lots making jokes people contributing people starving Nigeria happened still voting Isnt still money could used something else well',\n",
       "       'But lots making jokes people contributing people starving Nigeria happened',\n",
       "       \"After 've avoided katzenjammers Nigeria many months 're welcome bck reality high cost foodstuffs fuel dollars rate inflation etcNow spend earnings bbn show Govt nijja youths lazy\",\n",
       "       \"After 've avoided katzenjammers Nigeria many months 're welcome bck reality high cost\"],\n",
       "      dtype=object)"
      ]
     },
     "execution_count": 27,
     "metadata": {},
     "output_type": "execute_result"
    }
   ],
   "source": [
    "other_tweets[other_tweets['created_at'] == '2020-09-27']['clean_text'].values"
   ]
  },
  {
   "cell_type": "code",
   "execution_count": null,
   "metadata": {},
   "outputs": [],
   "source": []
  },
  {
   "cell_type": "code",
   "execution_count": null,
   "metadata": {},
   "outputs": [],
   "source": []
  },
  {
   "cell_type": "markdown",
   "metadata": {},
   "source": [
    "### Now the Availability of Food"
   ]
  },
  {
   "cell_type": "code",
   "execution_count": 40,
   "metadata": {
    "scrolled": true
   },
   "outputs": [
    {
     "name": "stdout",
     "output_type": "stream",
     "text": [
      "(10036, 17)\n"
     ]
    },
    {
     "data": {
      "text/html": [
       "<div>\n",
       "<style scoped>\n",
       "    .dataframe tbody tr th:only-of-type {\n",
       "        vertical-align: middle;\n",
       "    }\n",
       "\n",
       "    .dataframe tbody tr th {\n",
       "        vertical-align: top;\n",
       "    }\n",
       "\n",
       "    .dataframe thead th {\n",
       "        text-align: right;\n",
       "    }\n",
       "</style>\n",
       "<table border=\"1\" class=\"dataframe\">\n",
       "  <thead>\n",
       "    <tr style=\"text-align: right;\">\n",
       "      <th></th>\n",
       "      <th>timestamp</th>\n",
       "      <th>created_at</th>\n",
       "      <th>source</th>\n",
       "      <th>original_text</th>\n",
       "      <th>clean_text</th>\n",
       "      <th>sentiment</th>\n",
       "      <th>polarity</th>\n",
       "      <th>subjectivity</th>\n",
       "      <th>lang</th>\n",
       "      <th>favorite_count</th>\n",
       "      <th>retweet_count</th>\n",
       "      <th>original_author</th>\n",
       "      <th>possibly_sensitive</th>\n",
       "      <th>hashtags</th>\n",
       "      <th>user_mentions</th>\n",
       "      <th>place</th>\n",
       "      <th>place_coord_boundaries</th>\n",
       "    </tr>\n",
       "  </thead>\n",
       "  <tbody>\n",
       "    <tr>\n",
       "      <th>0</th>\n",
       "      <td>2020-09-24 01:11:08+00:00</td>\n",
       "      <td>Thu Sep 24 01:11:08 +0000 2020</td>\n",
       "      <td>&lt;a href=\"http://twitter.com/download/iphone\" r...</td>\n",
       "      <td>RT @lmun_ng: Delegate from Nigeria for Food an...</td>\n",
       "      <td>Delegate Nigeria Food Agriculture Organization</td>\n",
       "      <td>Sentiment(polarity=0.0, subjectivity=0.0)</td>\n",
       "      <td>0.0</td>\n",
       "      <td>0.0</td>\n",
       "      <td>en</td>\n",
       "      <td>0</td>\n",
       "      <td>12</td>\n",
       "      <td>JurassicPlug</td>\n",
       "      <td>False</td>\n",
       "      <td>LMUN2020</td>\n",
       "      <td>lmun_ng</td>\n",
       "      <td>NaN</td>\n",
       "      <td>Between her legs</td>\n",
       "    </tr>\n",
       "    <tr>\n",
       "      <th>1</th>\n",
       "      <td>2020-09-24 01:41:48+00:00</td>\n",
       "      <td>Thu Sep 24 01:41:48 +0000 2020</td>\n",
       "      <td>&lt;a href=\"http://twitter.com/download/android\" ...</td>\n",
       "      <td>RT @savndaniel: Young IDPs in Nigeria are sexu...</td>\n",
       "      <td>Young IDPs Nigeria sexually assaulted official...</td>\n",
       "      <td>Sentiment(polarity=0.19999999999999998, subjec...</td>\n",
       "      <td>0.19999999999999998</td>\n",
       "      <td>0.41111111111111115</td>\n",
       "      <td>en</td>\n",
       "      <td>0</td>\n",
       "      <td>168</td>\n",
       "      <td>iam_xtova</td>\n",
       "      <td>NaN</td>\n",
       "      <td>NaN</td>\n",
       "      <td>savndaniel</td>\n",
       "      <td>NaN</td>\n",
       "      <td>Jos, Abuja.</td>\n",
       "    </tr>\n",
       "    <tr>\n",
       "      <th>2</th>\n",
       "      <td>2020-09-24 01:46:05+00:00</td>\n",
       "      <td>Thu Sep 24 01:46:05 +0000 2020</td>\n",
       "      <td>&lt;a href=\"http://twitter.com/download/android\" ...</td>\n",
       "      <td>With the current incident of Flood that occurr...</td>\n",
       "      <td>With current incident Flood occurred Kebbi sta...</td>\n",
       "      <td>Sentiment(polarity=-0.04999999999999999, subje...</td>\n",
       "      <td>-0.04999999999999999</td>\n",
       "      <td>0.42083333333333334</td>\n",
       "      <td>en</td>\n",
       "      <td>6</td>\n",
       "      <td>3</td>\n",
       "      <td>CorpFarmersTV</td>\n",
       "      <td>False</td>\n",
       "      <td>FoodSystems</td>\n",
       "      <td>NaN</td>\n",
       "      <td>NaN</td>\n",
       "      <td>Lagos, Nigeria Africa 🌍⏩🌏</td>\n",
       "    </tr>\n",
       "  </tbody>\n",
       "</table>\n",
       "</div>"
      ],
      "text/plain": [
       "                   timestamp                      created_at  \\\n",
       "0  2020-09-24 01:11:08+00:00  Thu Sep 24 01:11:08 +0000 2020   \n",
       "1  2020-09-24 01:41:48+00:00  Thu Sep 24 01:41:48 +0000 2020   \n",
       "2  2020-09-24 01:46:05+00:00  Thu Sep 24 01:46:05 +0000 2020   \n",
       "\n",
       "                                              source  \\\n",
       "0  <a href=\"http://twitter.com/download/iphone\" r...   \n",
       "1  <a href=\"http://twitter.com/download/android\" ...   \n",
       "2  <a href=\"http://twitter.com/download/android\" ...   \n",
       "\n",
       "                                       original_text  \\\n",
       "0  RT @lmun_ng: Delegate from Nigeria for Food an...   \n",
       "1  RT @savndaniel: Young IDPs in Nigeria are sexu...   \n",
       "2  With the current incident of Flood that occurr...   \n",
       "\n",
       "                                          clean_text  \\\n",
       "0     Delegate Nigeria Food Agriculture Organization   \n",
       "1  Young IDPs Nigeria sexually assaulted official...   \n",
       "2  With current incident Flood occurred Kebbi sta...   \n",
       "\n",
       "                                           sentiment              polarity  \\\n",
       "0          Sentiment(polarity=0.0, subjectivity=0.0)                   0.0   \n",
       "1  Sentiment(polarity=0.19999999999999998, subjec...   0.19999999999999998   \n",
       "2  Sentiment(polarity=-0.04999999999999999, subje...  -0.04999999999999999   \n",
       "\n",
       "          subjectivity lang favorite_count retweet_count original_author  \\\n",
       "0                  0.0   en              0            12    JurassicPlug   \n",
       "1  0.41111111111111115   en              0           168       iam_xtova   \n",
       "2  0.42083333333333334   en              6             3   CorpFarmersTV   \n",
       "\n",
       "  possibly_sensitive     hashtags user_mentions place  \\\n",
       "0              False     LMUN2020       lmun_ng   NaN   \n",
       "1                NaN          NaN    savndaniel   NaN   \n",
       "2              False  FoodSystems           NaN   NaN   \n",
       "\n",
       "      place_coord_boundaries  \n",
       "0           Between her legs  \n",
       "1                Jos, Abuja.  \n",
       "2  Lagos, Nigeria Africa 🌍⏩🌏  "
      ]
     },
     "execution_count": 40,
     "metadata": {},
     "output_type": "execute_result"
    }
   ],
   "source": [
    "avail_ng = pd.read_csv('data/NigeriaTweetsAvailabilityofFood.csv')\n",
    "print(avail_ng.shape)\n",
    "avail_ng.head(3)"
   ]
  },
  {
   "cell_type": "code",
   "execution_count": 41,
   "metadata": {},
   "outputs": [
    {
     "name": "stdout",
     "output_type": "stream",
     "text": [
      "(2809, 17)\n"
     ]
    }
   ],
   "source": [
    "avail_ng = clean_tweets(avail_ng, csvfile='data/cleaned_avail_ng.csv')\n",
    "print(avail_ng.shape)"
   ]
  },
  {
   "cell_type": "code",
   "execution_count": 42,
   "metadata": {},
   "outputs": [
    {
     "name": "stdout",
     "output_type": "stream",
     "text": [
      "(3424, 17)\n",
      "(865, 17)\n"
     ]
    }
   ],
   "source": [
    "avail_ken = pd.read_csv('data/KenyaTweetsAvailabilityofFood.csv')\n",
    "print(avail_ken.shape)\n",
    "\n",
    "avail_ken = clean_tweets(avail_ken, csvfile='data/cleaned_avail_ken.csv')\n",
    "print(avail_ken.shape)"
   ]
  },
  {
   "cell_type": "code",
   "execution_count": 43,
   "metadata": {},
   "outputs": [
    {
     "name": "stdout",
     "output_type": "stream",
     "text": [
      "(2527, 17)\n",
      "(720, 17)\n"
     ]
    }
   ],
   "source": [
    "avail_sa = pd.read_csv('data/SouthAfricaTweetsAvailabilityofFood.csv')\n",
    "print(avail_sa.shape)\n",
    "\n",
    "avail_sa = clean_tweets(avail_sa, csvfile='data/cleaned_avail_sa.csv')\n",
    "print(avail_sa.shape)"
   ]
  },
  {
   "cell_type": "code",
   "execution_count": 44,
   "metadata": {},
   "outputs": [
    {
     "data": {
      "text/plain": [
       "array(['To achieve need global food system productive inclusive marginalized populations sus',\n",
       "       'dre print N3000/5yards Available beautiful colours Location- Lagos Pick Alausa We deliver nat',\n",
       "       'When food wrapped/served newspaper back Ghana Nigeria know food gon na slap',\n",
       "       'E go reach one extent anybody wey support name Nigeria na beat e go receive Especially companies wey dey see free food dey pay tax How go tweet rubbish wey u dey country dey pay tax company Rubbish',\n",
       "       'This development worrisome Considering initial submissions security threat influenced foreigners How reconcile latest invest Nigerians almost begging food Greater part Nigeria without rails What',\n",
       "       'Our Heroes Farmers toil night day tilling land grow harvest process food keep us fed times colonisation Independence As celebrate Nigeria let us thank farmer today strive liberate us clutches hunger',\n",
       "       \"Tomorrow public holiday Nigeria Our food service business partners receiving payments rd October This payment merchants wo n't pushing funds said day However Oct rd payments restored back Thank\",\n",
       "       'Kindly patronize us Ibadan Nigeria',\n",
       "       'Join us tomorrow celebrate Vice City Way',\n",
       "       'If get Nigeria st Century stone age fruits food collecting age'],\n",
       "      dtype=object)"
      ]
     },
     "execution_count": 44,
     "metadata": {},
     "output_type": "execute_result"
    }
   ],
   "source": [
    "avail_ng['clean_text'].sample(10).values"
   ]
  },
  {
   "cell_type": "code",
   "execution_count": 45,
   "metadata": {},
   "outputs": [
    {
     "data": {
      "text/plain": [
       "array(['In arid lands northern traditional pastoralists almost entirely dependent livestock source food income milk But year swarms devastated grazing lands putting herders risk',\n",
       "       'scientists conducted new highlighting impact pandemic two-thirds surveyed experienced economic hardship due pandemic',\n",
       "       'As CCZ member Consumers International Summit fundamental global food availability We congratulate Helena CI Director General identified one champions',\n",
       "       'We coordinated food worth Ksh.450 million received food donations worth another Ksh.430 million vulnerable households stated COVID-19 Emergency Response Fund Board Chairperson Jane Karuku',\n",
       "       'Provide seed capital operationalize SME Partial Credit Guarantee SchemeBills payment holiday Kenya Power Limited Tax subsidy imported food',\n",
       "       'One pathway food security initiative could critical element agribusiness development Kenya',\n",
       "       'Well yall I got nominated Forbes Food Beverage section I months old',\n",
       "       'Kenyans know RAILA allergic development When UHURUTO developed BIG agenda sure bet Kenya',\n",
       "       'If put land irrigation especially northern Kenya state terms food food security improve',\n",
       "       'Reduce food wastage house by:1 Shopping smart realistically2 Not over-serving food3 Eat leftovers4 Store food properly5 Keep track throw away'],\n",
       "      dtype=object)"
      ]
     },
     "execution_count": 45,
     "metadata": {},
     "output_type": "execute_result"
    }
   ],
   "source": [
    "avail_ken['clean_text'].sample(10).values"
   ]
  },
  {
   "cell_type": "code",
   "execution_count": 46,
   "metadata": {},
   "outputs": [
    {
     "data": {
      "text/plain": [
       "array(['Simba local chef I buy Cape Town makes amazing food Check A lot people town',\n",
       "       \"Hi I think wrong Fry 's 're vegan food company South Africa Mandy\",\n",
       "       'South Africa consist High rate unemployment When brag hungry At somepoint',\n",
       "       \"`` The Ubuntu Project initiative provided parcels organic vegetables hundreds vulnerable households townships since beginning lockdown well gardening starter kits seedlings grow vegetables ''\",\n",
       "       'German Embassy supporting food distribution project South',\n",
       "       \"Hundreds Zimbabweans arrested trying smuggle groceries back impoverished country South African border reopened first time six months `` There enough food hungry '' Memory Chauke tells\",\n",
       "       '`` Spain Argentina banned outdoor exercise entirely Israel limited walks within metres home.Chile',\n",
       "       'Hi Indeed heritage remains Were celebrating South Africas fashionable flavourful lyrical linguistic Heritage Light-hearted chats offer break spark bit banter Come join us',\n",
       "       'They dominanted foreigners Johannesburg also Ive never received food South African driver btw',\n",
       "       'Buy South Africa/Best Biltong rated /5 IMPROVEMENT NECESSARY Food Standards Agency Surbiton Road KT1 HGBusiness type Manufacturers/packersInspected /9/20'],\n",
       "      dtype=object)"
      ]
     },
     "execution_count": 46,
     "metadata": {},
     "output_type": "execute_result"
    }
   ],
   "source": [
    "avail_sa['clean_text'].sample(10).values"
   ]
  },
  {
   "cell_type": "markdown",
   "metadata": {},
   "source": [
    "### Now Price of Food"
   ]
  },
  {
   "cell_type": "code",
   "execution_count": 47,
   "metadata": {},
   "outputs": [
    {
     "name": "stdout",
     "output_type": "stream",
     "text": [
      "(17133, 17)\n"
     ]
    }
   ],
   "source": [
    "ng_price = pd.read_csv('data/PriceofFoodNigeriaTweets.csv')\n",
    "print(ng_price.shape)"
   ]
  },
  {
   "cell_type": "code",
   "execution_count": 48,
   "metadata": {},
   "outputs": [
    {
     "data": {
      "text/html": [
       "<div>\n",
       "<style scoped>\n",
       "    .dataframe tbody tr th:only-of-type {\n",
       "        vertical-align: middle;\n",
       "    }\n",
       "\n",
       "    .dataframe tbody tr th {\n",
       "        vertical-align: top;\n",
       "    }\n",
       "\n",
       "    .dataframe thead th {\n",
       "        text-align: right;\n",
       "    }\n",
       "</style>\n",
       "<table border=\"1\" class=\"dataframe\">\n",
       "  <thead>\n",
       "    <tr style=\"text-align: right;\">\n",
       "      <th></th>\n",
       "      <th>timestamp</th>\n",
       "      <th>created_at</th>\n",
       "      <th>source</th>\n",
       "      <th>original_text</th>\n",
       "      <th>clean_text</th>\n",
       "      <th>sentiment</th>\n",
       "      <th>polarity</th>\n",
       "      <th>subjectivity</th>\n",
       "      <th>lang</th>\n",
       "      <th>favorite_count</th>\n",
       "      <th>retweet_count</th>\n",
       "      <th>original_author</th>\n",
       "      <th>possibly_sensitive</th>\n",
       "      <th>hashtags</th>\n",
       "      <th>user_mentions</th>\n",
       "      <th>place</th>\n",
       "      <th>place_coord_boundaries</th>\n",
       "    </tr>\n",
       "  </thead>\n",
       "  <tbody>\n",
       "    <tr>\n",
       "      <th>0</th>\n",
       "      <td>2020-09-24 01:11:08+00:00</td>\n",
       "      <td>Thu Sep 24 01:11:08 +0000 2020</td>\n",
       "      <td>&lt;a href=\"http://twitter.com/download/iphone\" r...</td>\n",
       "      <td>RT @lmun_ng: Delegate from Nigeria for Food an...</td>\n",
       "      <td>Delegate Nigeria Food Agriculture Organization</td>\n",
       "      <td>Sentiment(polarity=0.0, subjectivity=0.0)</td>\n",
       "      <td>0.0</td>\n",
       "      <td>0.0</td>\n",
       "      <td>en</td>\n",
       "      <td>0</td>\n",
       "      <td>12</td>\n",
       "      <td>JurassicPlug</td>\n",
       "      <td>False</td>\n",
       "      <td>LMUN2020</td>\n",
       "      <td>lmun_ng</td>\n",
       "      <td>NaN</td>\n",
       "      <td>Between her legs</td>\n",
       "    </tr>\n",
       "    <tr>\n",
       "      <th>1</th>\n",
       "      <td>2020-09-24 01:41:48+00:00</td>\n",
       "      <td>Thu Sep 24 01:41:48 +0000 2020</td>\n",
       "      <td>&lt;a href=\"http://twitter.com/download/android\" ...</td>\n",
       "      <td>RT @savndaniel: Young IDPs in Nigeria are sexu...</td>\n",
       "      <td>Young IDPs Nigeria sexually assaulted official...</td>\n",
       "      <td>Sentiment(polarity=0.19999999999999998, subjec...</td>\n",
       "      <td>0.19999999999999998</td>\n",
       "      <td>0.41111111111111115</td>\n",
       "      <td>en</td>\n",
       "      <td>0</td>\n",
       "      <td>168</td>\n",
       "      <td>iam_xtova</td>\n",
       "      <td>NaN</td>\n",
       "      <td>NaN</td>\n",
       "      <td>savndaniel</td>\n",
       "      <td>NaN</td>\n",
       "      <td>Jos, Abuja.</td>\n",
       "    </tr>\n",
       "  </tbody>\n",
       "</table>\n",
       "</div>"
      ],
      "text/plain": [
       "                   timestamp                      created_at  \\\n",
       "0  2020-09-24 01:11:08+00:00  Thu Sep 24 01:11:08 +0000 2020   \n",
       "1  2020-09-24 01:41:48+00:00  Thu Sep 24 01:41:48 +0000 2020   \n",
       "\n",
       "                                              source  \\\n",
       "0  <a href=\"http://twitter.com/download/iphone\" r...   \n",
       "1  <a href=\"http://twitter.com/download/android\" ...   \n",
       "\n",
       "                                       original_text  \\\n",
       "0  RT @lmun_ng: Delegate from Nigeria for Food an...   \n",
       "1  RT @savndaniel: Young IDPs in Nigeria are sexu...   \n",
       "\n",
       "                                          clean_text  \\\n",
       "0     Delegate Nigeria Food Agriculture Organization   \n",
       "1  Young IDPs Nigeria sexually assaulted official...   \n",
       "\n",
       "                                           sentiment             polarity  \\\n",
       "0          Sentiment(polarity=0.0, subjectivity=0.0)                  0.0   \n",
       "1  Sentiment(polarity=0.19999999999999998, subjec...  0.19999999999999998   \n",
       "\n",
       "          subjectivity lang favorite_count retweet_count original_author  \\\n",
       "0                  0.0   en              0            12    JurassicPlug   \n",
       "1  0.41111111111111115   en              0           168       iam_xtova   \n",
       "\n",
       "  possibly_sensitive  hashtags user_mentions place place_coord_boundaries  \n",
       "0              False  LMUN2020       lmun_ng   NaN       Between her legs  \n",
       "1                NaN       NaN    savndaniel   NaN            Jos, Abuja.  "
      ]
     },
     "execution_count": 48,
     "metadata": {},
     "output_type": "execute_result"
    }
   ],
   "source": [
    "ng_price.head(2)"
   ]
  },
  {
   "cell_type": "code",
   "execution_count": 55,
   "metadata": {},
   "outputs": [
    {
     "name": "stdout",
     "output_type": "stream",
     "text": [
      "(3964, 17)\n"
     ]
    }
   ],
   "source": [
    "ng_price = clean_tweets(ng_price, csvfile='data/cleaned_price_ng.csv')\n",
    "print(ng_price.shape)"
   ]
  },
  {
   "cell_type": "code",
   "execution_count": 56,
   "metadata": {},
   "outputs": [
    {
     "name": "stdout",
     "output_type": "stream",
     "text": [
      "(6033, 17)\n",
      "(1159, 17)\n"
     ]
    }
   ],
   "source": [
    "ken_price = pd.read_csv('data/PriceofFoodKenyaTweets.csv')\n",
    "print(ken_price.shape)\n",
    "\n",
    "ken_price = clean_tweets(ken_price, csvfile='data/cleaned_price_ken.csv')\n",
    "print(ken_price.shape)"
   ]
  },
  {
   "cell_type": "code",
   "execution_count": 57,
   "metadata": {},
   "outputs": [
    {
     "name": "stdout",
     "output_type": "stream",
     "text": [
      "(3977, 17)\n",
      "(901, 17)\n"
     ]
    }
   ],
   "source": [
    "sa_price = pd.read_csv('data/PriceofFoodSouthAfricaTweets.csv')\n",
    "print(sa_price.shape)\n",
    "\n",
    "sa_price = clean_tweets(sa_price, csvfile='data/cleaned_price_sa.csv')\n",
    "print(sa_price.shape)"
   ]
  },
  {
   "cell_type": "code",
   "execution_count": null,
   "metadata": {},
   "outputs": [],
   "source": []
  },
  {
   "cell_type": "code",
   "execution_count": 54,
   "metadata": {},
   "outputs": [],
   "source": [
    "sub3 = pd.read_csv('shola.csv')\n",
    "sub2 = pd.read_csv('CATBOOST_KFOLD_2.csv')\n",
    "\n",
    "pred = sub3['default_status'] * 0.6 + sub1['default_status']*0.4\n",
    "\n",
    "sub3['default_status'] = pred\n",
    "sub3.to_csv('stacker1.csv', index=False)"
   ]
  },
  {
   "cell_type": "code",
   "execution_count": null,
   "metadata": {},
   "outputs": [],
   "source": []
  }
 ],
 "metadata": {
  "kernelspec": {
   "display_name": "Python 3",
   "language": "python",
   "name": "python3"
  },
  "language_info": {
   "codemirror_mode": {
    "name": "ipython",
    "version": 3
   },
   "file_extension": ".py",
   "mimetype": "text/x-python",
   "name": "python",
   "nbconvert_exporter": "python",
   "pygments_lexer": "ipython3",
   "version": "3.7.4"
  }
 },
 "nbformat": 4,
 "nbformat_minor": 4
}
